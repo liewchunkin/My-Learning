{
 "cells": [
  {
   "cell_type": "markdown",
   "id": "bcb38000",
   "metadata": {
    "papermill": {
     "duration": 0.016815,
     "end_time": "2021-09-13T20:06:42.947809",
     "exception": false,
     "start_time": "2021-09-13T20:06:42.930994",
     "status": "completed"
    },
    "tags": []
   },
   "source": [
    "# Introduction\n",
    "\n",
    "Now that you know how to access and examine a dataset, you're ready to write your first SQL query!  As you'll soon see, SQL queries will help you sort through a massive dataset, to retrieve only the information that you need.  \n",
    "\n",
    "We'll begin by using the keywords **SELECT**, **FROM**, and **WHERE** to get data from specific columns based on conditions you specify. \n",
    "\n",
    "For clarity, we'll work with a small imaginary dataset `pet_records` which contains just one table, called `pets`. \n",
    "\n",
    "![](https://i.imgur.com/fI5Pvvp.png)\n",
    "\n",
    "# SELECT ... FROM\n",
    "\n",
    "The most basic SQL query selects a single column from a single table.  To do this, \n",
    "- specify the column you want after the word **SELECT**, and then \n",
    "- specify the table after the word **FROM**.  \n",
    "\n",
    "For instance, to select the `Name` column (from the `pets` table in the `pet_records` database in the `bigquery-public-data` project), our query would appear as follows:  \n",
    "\n",
    "![](https://i.imgur.com/c3GxYRt.png)\n",
    "\n",
    "Note that when writing an SQL query, the argument we pass to **FROM** is *not* in single or double quotation marks (' or \"). It is in backticks (\\`).\n",
    "\n",
    "# WHERE ...\n",
    "\n",
    "BigQuery datasets are large, so you'll usually want to return only the rows meeting specific conditions. You can do this using the **WHERE** clause.\n",
    "\n",
    "The query below returns the entries from the `Name` column that are in rows where the `Animal` column has the text `'Cat'`. \n",
    "\n",
    "![](https://i.imgur.com/HJOT8Kb.png)"
   ]
  },
  {
   "cell_type": "markdown",
   "id": "542dd75f",
   "metadata": {
    "papermill": {
     "duration": 0.014798,
     "end_time": "2021-09-13T20:06:42.977535",
     "exception": false,
     "start_time": "2021-09-13T20:06:42.962737",
     "status": "completed"
    },
    "tags": []
   },
   "source": [
    "# Example: What are all the U.S. cities in the OpenAQ dataset?\n",
    "\n",
    "Now that you've got the basics down, let's work through an example with a real dataset. We'll use an [OpenAQ](https://openaq.org) dataset about air quality.\n",
    "\n",
    "First, we'll set up everything we need to run queries and take a quick peek at what tables are in our database.  (_Since you learned how to do this in the previous tutorial, we have hidden the code.  But if you'd like to take a peek, you need only click on the \"Code\" button below._)"
   ]
  },
  {
   "cell_type": "code",
   "execution_count": 1,
   "id": "fe3f75be",
   "metadata": {
    "_kg_hide-input": true,
    "execution": {
     "iopub.execute_input": "2021-09-13T20:06:43.018220Z",
     "iopub.status.busy": "2021-09-13T20:06:43.017291Z",
     "iopub.status.idle": "2021-09-13T20:06:43.767526Z",
     "shell.execute_reply": "2021-09-13T20:06:43.768153Z"
    },
    "papermill": {
     "duration": 0.777028,
     "end_time": "2021-09-13T20:06:43.769344",
     "exception": false,
     "start_time": "2021-09-13T20:06:42.992316",
     "status": "completed"
    },
    "tags": []
   },
   "outputs": [
    {
     "name": "stdout",
     "output_type": "stream",
     "text": [
      "Using Kaggle's public dataset BigQuery integration.\n",
      "global_air_quality\n"
     ]
    }
   ],
   "source": [
    "\n",
    "from google.cloud import bigquery\n",
    "\n",
    "# Create a \"Client\" object\n",
    "client = bigquery.Client()\n",
    "\n",
    "# Construct a reference to the \"openaq\" dataset\n",
    "dataset_ref = client.dataset(\"openaq\", project=\"bigquery-public-data\")\n",
    "\n",
    "# API request - fetch the dataset\n",
    "dataset = client.get_dataset(dataset_ref)\n",
    "\n",
    "# List all the tables in the \"openaq\" dataset\n",
    "tables = list(client.list_tables(dataset))\n",
    "\n",
    "# Print names of all tables in the dataset (there's only one!)\n",
    "for table in tables:  \n",
    "    print(table.table_id)"
   ]
  },
  {
   "cell_type": "markdown",
   "id": "36d46fb5",
   "metadata": {
    "papermill": {
     "duration": 0.015491,
     "end_time": "2021-09-13T20:06:43.803428",
     "exception": false,
     "start_time": "2021-09-13T20:06:43.787937",
     "status": "completed"
    },
    "tags": []
   },
   "source": [
    "The dataset contains only one table, called `global_air_quality`.  We'll fetch the table and take a peek at the first few rows to see what sort of data it contains.  (_Again, we have hidden the code.  To take a peek, click on the \"Code\" button below._)"
   ]
  },
  {
   "cell_type": "code",
   "execution_count": 2,
   "id": "8cfe0085",
   "metadata": {
    "_kg_hide-input": true,
    "execution": {
     "iopub.execute_input": "2021-09-13T20:06:43.842128Z",
     "iopub.status.busy": "2021-09-13T20:06:43.841472Z",
     "iopub.status.idle": "2021-09-13T20:06:44.502884Z",
     "shell.execute_reply": "2021-09-13T20:06:44.502384Z"
    },
    "papermill": {
     "duration": 0.68317,
     "end_time": "2021-09-13T20:06:44.503061",
     "exception": false,
     "start_time": "2021-09-13T20:06:43.819891",
     "status": "completed"
    },
    "tags": []
   },
   "outputs": [
    {
     "name": "stderr",
     "output_type": "stream",
     "text": [
      "/opt/conda/lib/python3.7/site-packages/ipykernel_launcher.py:8: UserWarning: Cannot use bqstorage_client if max_results is set, reverting to fetching data with the tabledata.list endpoint.\n",
      "  \n"
     ]
    },
    {
     "data": {
      "text/html": [
       "<div>\n",
       "<style scoped>\n",
       "    .dataframe tbody tr th:only-of-type {\n",
       "        vertical-align: middle;\n",
       "    }\n",
       "\n",
       "    .dataframe tbody tr th {\n",
       "        vertical-align: top;\n",
       "    }\n",
       "\n",
       "    .dataframe thead th {\n",
       "        text-align: right;\n",
       "    }\n",
       "</style>\n",
       "<table border=\"1\" class=\"dataframe\">\n",
       "  <thead>\n",
       "    <tr style=\"text-align: right;\">\n",
       "      <th></th>\n",
       "      <th>location</th>\n",
       "      <th>city</th>\n",
       "      <th>country</th>\n",
       "      <th>pollutant</th>\n",
       "      <th>value</th>\n",
       "      <th>timestamp</th>\n",
       "      <th>unit</th>\n",
       "      <th>source_name</th>\n",
       "      <th>latitude</th>\n",
       "      <th>longitude</th>\n",
       "      <th>averaged_over_in_hours</th>\n",
       "    </tr>\n",
       "  </thead>\n",
       "  <tbody>\n",
       "    <tr>\n",
       "      <th>0</th>\n",
       "      <td>BTM Layout, Bengaluru - KSPCB</td>\n",
       "      <td>Bengaluru</td>\n",
       "      <td>IN</td>\n",
       "      <td>co</td>\n",
       "      <td>910.00</td>\n",
       "      <td>2018-02-22 03:00:00+00:00</td>\n",
       "      <td>µg/m³</td>\n",
       "      <td>CPCB</td>\n",
       "      <td>12.912811</td>\n",
       "      <td>77.60922</td>\n",
       "      <td>0.25</td>\n",
       "    </tr>\n",
       "    <tr>\n",
       "      <th>1</th>\n",
       "      <td>BTM Layout, Bengaluru - KSPCB</td>\n",
       "      <td>Bengaluru</td>\n",
       "      <td>IN</td>\n",
       "      <td>no2</td>\n",
       "      <td>131.87</td>\n",
       "      <td>2018-02-22 03:00:00+00:00</td>\n",
       "      <td>µg/m³</td>\n",
       "      <td>CPCB</td>\n",
       "      <td>12.912811</td>\n",
       "      <td>77.60922</td>\n",
       "      <td>0.25</td>\n",
       "    </tr>\n",
       "    <tr>\n",
       "      <th>2</th>\n",
       "      <td>BTM Layout, Bengaluru - KSPCB</td>\n",
       "      <td>Bengaluru</td>\n",
       "      <td>IN</td>\n",
       "      <td>o3</td>\n",
       "      <td>15.57</td>\n",
       "      <td>2018-02-22 03:00:00+00:00</td>\n",
       "      <td>µg/m³</td>\n",
       "      <td>CPCB</td>\n",
       "      <td>12.912811</td>\n",
       "      <td>77.60922</td>\n",
       "      <td>0.25</td>\n",
       "    </tr>\n",
       "    <tr>\n",
       "      <th>3</th>\n",
       "      <td>BTM Layout, Bengaluru - KSPCB</td>\n",
       "      <td>Bengaluru</td>\n",
       "      <td>IN</td>\n",
       "      <td>pm25</td>\n",
       "      <td>45.62</td>\n",
       "      <td>2018-02-22 03:00:00+00:00</td>\n",
       "      <td>µg/m³</td>\n",
       "      <td>CPCB</td>\n",
       "      <td>12.912811</td>\n",
       "      <td>77.60922</td>\n",
       "      <td>0.25</td>\n",
       "    </tr>\n",
       "    <tr>\n",
       "      <th>4</th>\n",
       "      <td>BTM Layout, Bengaluru - KSPCB</td>\n",
       "      <td>Bengaluru</td>\n",
       "      <td>IN</td>\n",
       "      <td>so2</td>\n",
       "      <td>4.49</td>\n",
       "      <td>2018-02-22 03:00:00+00:00</td>\n",
       "      <td>µg/m³</td>\n",
       "      <td>CPCB</td>\n",
       "      <td>12.912811</td>\n",
       "      <td>77.60922</td>\n",
       "      <td>0.25</td>\n",
       "    </tr>\n",
       "  </tbody>\n",
       "</table>\n",
       "</div>"
      ],
      "text/plain": [
       "                        location       city country pollutant   value  \\\n",
       "0  BTM Layout, Bengaluru - KSPCB  Bengaluru      IN        co  910.00   \n",
       "1  BTM Layout, Bengaluru - KSPCB  Bengaluru      IN       no2  131.87   \n",
       "2  BTM Layout, Bengaluru - KSPCB  Bengaluru      IN        o3   15.57   \n",
       "3  BTM Layout, Bengaluru - KSPCB  Bengaluru      IN      pm25   45.62   \n",
       "4  BTM Layout, Bengaluru - KSPCB  Bengaluru      IN       so2    4.49   \n",
       "\n",
       "                  timestamp   unit source_name   latitude  longitude  \\\n",
       "0 2018-02-22 03:00:00+00:00  µg/m³        CPCB  12.912811   77.60922   \n",
       "1 2018-02-22 03:00:00+00:00  µg/m³        CPCB  12.912811   77.60922   \n",
       "2 2018-02-22 03:00:00+00:00  µg/m³        CPCB  12.912811   77.60922   \n",
       "3 2018-02-22 03:00:00+00:00  µg/m³        CPCB  12.912811   77.60922   \n",
       "4 2018-02-22 03:00:00+00:00  µg/m³        CPCB  12.912811   77.60922   \n",
       "\n",
       "   averaged_over_in_hours  \n",
       "0                    0.25  \n",
       "1                    0.25  \n",
       "2                    0.25  \n",
       "3                    0.25  \n",
       "4                    0.25  "
      ]
     },
     "execution_count": 2,
     "metadata": {},
     "output_type": "execute_result"
    }
   ],
   "source": [
    "\n",
    "# Construct a reference to the \"global_air_quality\" table\n",
    "table_ref = dataset_ref.table(\"global_air_quality\")\n",
    "\n",
    "# API request - fetch the table\n",
    "table = client.get_table(table_ref)\n",
    "\n",
    "# Preview the first five lines of the \"global_air_quality\" table\n",
    "client.list_rows(table, max_results=5).to_dataframe()"
   ]
  },
  {
   "cell_type": "markdown",
   "id": "dc3134fa",
   "metadata": {
    "papermill": {
     "duration": 0.017411,
     "end_time": "2021-09-13T20:06:44.538284",
     "exception": false,
     "start_time": "2021-09-13T20:06:44.520873",
     "status": "completed"
    },
    "tags": []
   },
   "source": [
    "Everything looks good! So, let's put together a query. Say we want to select all the values from the `city` column that are in rows where the `country` column is `'US'` (for \"United States\")."
   ]
  },
  {
   "cell_type": "code",
   "execution_count": 3,
   "id": "613a62dc",
   "metadata": {
    "execution": {
     "iopub.execute_input": "2021-09-13T20:06:44.576456Z",
     "iopub.status.busy": "2021-09-13T20:06:44.575501Z",
     "iopub.status.idle": "2021-09-13T20:06:44.579286Z",
     "shell.execute_reply": "2021-09-13T20:06:44.579788Z"
    },
    "papermill": {
     "duration": 0.02438,
     "end_time": "2021-09-13T20:06:44.579934",
     "exception": false,
     "start_time": "2021-09-13T20:06:44.555554",
     "status": "completed"
    },
    "tags": []
   },
   "outputs": [],
   "source": [
    "# Query to select all the items from the \"city\" column where the \"country\" column is 'US'\n",
    "query = \"\"\"\n",
    "        SELECT city\n",
    "        FROM `bigquery-public-data.openaq.global_air_quality`\n",
    "        WHERE country = 'US'\n",
    "        \"\"\""
   ]
  },
  {
   "cell_type": "markdown",
   "id": "88964445",
   "metadata": {
    "papermill": {
     "duration": 0.016142,
     "end_time": "2021-09-13T20:06:44.612884",
     "exception": false,
     "start_time": "2021-09-13T20:06:44.596742",
     "status": "completed"
    },
    "tags": []
   },
   "source": [
    "Take the time now to ensure that this query lines up with what you learned above.  \n",
    "\n",
    "# Submitting the query to the dataset\n",
    "\n",
    "We're ready to use this query to get information from the OpenAQ dataset.  As in the previous tutorial, the first step is to create a [`Client`](https://google-cloud.readthedocs.io/en/latest/bigquery/generated/google.cloud.bigquery.client.Client.html#google.cloud.bigquery.client.Client) object."
   ]
  },
  {
   "cell_type": "code",
   "execution_count": 4,
   "id": "4d8fe5a1",
   "metadata": {
    "execution": {
     "iopub.execute_input": "2021-09-13T20:06:44.651282Z",
     "iopub.status.busy": "2021-09-13T20:06:44.650416Z",
     "iopub.status.idle": "2021-09-13T20:06:44.655429Z",
     "shell.execute_reply": "2021-09-13T20:06:44.655863Z"
    },
    "papermill": {
     "duration": 0.025449,
     "end_time": "2021-09-13T20:06:44.656020",
     "exception": false,
     "start_time": "2021-09-13T20:06:44.630571",
     "status": "completed"
    },
    "tags": []
   },
   "outputs": [
    {
     "name": "stdout",
     "output_type": "stream",
     "text": [
      "Using Kaggle's public dataset BigQuery integration.\n"
     ]
    }
   ],
   "source": [
    "# Create a \"Client\" object\n",
    "client = bigquery.Client()"
   ]
  },
  {
   "cell_type": "markdown",
   "id": "db73e04d",
   "metadata": {
    "papermill": {
     "duration": 0.019221,
     "end_time": "2021-09-13T20:06:44.692687",
     "exception": false,
     "start_time": "2021-09-13T20:06:44.673466",
     "status": "completed"
    },
    "tags": []
   },
   "source": [
    "We begin by setting up the query with the [`query()`](https://google-cloud.readthedocs.io/en/latest/bigquery/generated/google.cloud.bigquery.client.Client.query.html#google.cloud.bigquery.client.Client.query) method.  We run the method with the default parameters, but this method also allows us to specify more complicated settings that you can read about in [the documentation](https://google-cloud.readthedocs.io/en/latest/bigquery/generated/google.cloud.bigquery.client.Client.query.html#google.cloud.bigquery.client.Client.query).  We'll revisit this later."
   ]
  },
  {
   "cell_type": "code",
   "execution_count": 5,
   "id": "3a795e17",
   "metadata": {
    "execution": {
     "iopub.execute_input": "2021-09-13T20:06:44.734551Z",
     "iopub.status.busy": "2021-09-13T20:06:44.733627Z",
     "iopub.status.idle": "2021-09-13T20:06:45.285972Z",
     "shell.execute_reply": "2021-09-13T20:06:45.286555Z"
    },
    "papermill": {
     "duration": 0.573878,
     "end_time": "2021-09-13T20:06:45.286731",
     "exception": false,
     "start_time": "2021-09-13T20:06:44.712853",
     "status": "completed"
    },
    "tags": []
   },
   "outputs": [],
   "source": [
    "# Set up the query\n",
    "query_job = client.query(query)"
   ]
  },
  {
   "cell_type": "markdown",
   "id": "73f32767",
   "metadata": {
    "papermill": {
     "duration": 0.017742,
     "end_time": "2021-09-13T20:06:45.322604",
     "exception": false,
     "start_time": "2021-09-13T20:06:45.304862",
     "status": "completed"
    },
    "tags": []
   },
   "source": [
    "Next, we run the query and convert the results to a pandas DataFrame."
   ]
  },
  {
   "cell_type": "code",
   "execution_count": 6,
   "id": "0f49a85d",
   "metadata": {
    "execution": {
     "iopub.execute_input": "2021-09-13T20:06:45.364973Z",
     "iopub.status.busy": "2021-09-13T20:06:45.364368Z",
     "iopub.status.idle": "2021-09-13T20:06:45.981954Z",
     "shell.execute_reply": "2021-09-13T20:06:45.982470Z"
    },
    "papermill": {
     "duration": 0.64223,
     "end_time": "2021-09-13T20:06:45.982657",
     "exception": false,
     "start_time": "2021-09-13T20:06:45.340427",
     "status": "completed"
    },
    "tags": []
   },
   "outputs": [
    {
     "name": "stderr",
     "output_type": "stream",
     "text": [
      "/opt/conda/lib/python3.7/site-packages/google/cloud/bigquery/client.py:440: UserWarning: Cannot create BigQuery Storage client, the dependency google-cloud-bigquery-storage is not installed.\n",
      "  \"Cannot create BigQuery Storage client, the dependency \"\n"
     ]
    }
   ],
   "source": [
    "# API request - run the query, and return a pandas DataFrame\n",
    "us_cities = query_job.to_dataframe()"
   ]
  },
  {
   "cell_type": "markdown",
   "id": "06d6ee18",
   "metadata": {
    "papermill": {
     "duration": 0.01882,
     "end_time": "2021-09-13T20:06:46.019778",
     "exception": false,
     "start_time": "2021-09-13T20:06:46.000958",
     "status": "completed"
    },
    "tags": []
   },
   "source": [
    "Now we've got a pandas DataFrame called `us_cities`, which we can use like any other DataFrame."
   ]
  },
  {
   "cell_type": "code",
   "execution_count": 7,
   "id": "1aabcd0f",
   "metadata": {
    "execution": {
     "iopub.execute_input": "2021-09-13T20:06:46.066906Z",
     "iopub.status.busy": "2021-09-13T20:06:46.065615Z",
     "iopub.status.idle": "2021-09-13T20:06:46.072422Z",
     "shell.execute_reply": "2021-09-13T20:06:46.072927Z"
    },
    "papermill": {
     "duration": 0.034724,
     "end_time": "2021-09-13T20:06:46.073100",
     "exception": false,
     "start_time": "2021-09-13T20:06:46.038376",
     "status": "completed"
    },
    "tags": []
   },
   "outputs": [
    {
     "data": {
      "text/plain": [
       "Phoenix-Mesa-Scottsdale                     88\n",
       "Houston                                     82\n",
       "Los Angeles-Long Beach-Santa Ana            68\n",
       "Riverside-San Bernardino-Ontario            60\n",
       "New York-Northern New Jersey-Long Island    60\n",
       "Name: city, dtype: int64"
      ]
     },
     "execution_count": 7,
     "metadata": {},
     "output_type": "execute_result"
    }
   ],
   "source": [
    "# What five cities have the most measurements?\n",
    "us_cities.city.value_counts().head()"
   ]
  },
  {
   "cell_type": "markdown",
   "id": "6385a2db",
   "metadata": {
    "papermill": {
     "duration": 0.018783,
     "end_time": "2021-09-13T20:06:46.111008",
     "exception": false,
     "start_time": "2021-09-13T20:06:46.092225",
     "status": "completed"
    },
    "tags": []
   },
   "source": [
    "# More queries\n",
    "\n",
    "If you want multiple columns, you can select them with a comma between the names:"
   ]
  },
  {
   "cell_type": "code",
   "execution_count": 8,
   "id": "f99bfc6e",
   "metadata": {
    "execution": {
     "iopub.execute_input": "2021-09-13T20:06:46.154476Z",
     "iopub.status.busy": "2021-09-13T20:06:46.153615Z",
     "iopub.status.idle": "2021-09-13T20:06:46.155788Z",
     "shell.execute_reply": "2021-09-13T20:06:46.156372Z"
    },
    "papermill": {
     "duration": 0.02629,
     "end_time": "2021-09-13T20:06:46.156523",
     "exception": false,
     "start_time": "2021-09-13T20:06:46.130233",
     "status": "completed"
    },
    "tags": []
   },
   "outputs": [],
   "source": [
    "query = \"\"\"\n",
    "        SELECT city, country\n",
    "        FROM `bigquery-public-data.openaq.global_air_quality`\n",
    "        WHERE country = 'US'\n",
    "        \"\"\""
   ]
  },
  {
   "cell_type": "markdown",
   "id": "1901fa8d",
   "metadata": {
    "papermill": {
     "duration": 0.019106,
     "end_time": "2021-09-13T20:06:46.194409",
     "exception": false,
     "start_time": "2021-09-13T20:06:46.175303",
     "status": "completed"
    },
    "tags": []
   },
   "source": [
    "You can select all columns with a `*` like this:"
   ]
  },
  {
   "cell_type": "code",
   "execution_count": 9,
   "id": "f9be6558",
   "metadata": {
    "execution": {
     "iopub.execute_input": "2021-09-13T20:06:46.235635Z",
     "iopub.status.busy": "2021-09-13T20:06:46.234685Z",
     "iopub.status.idle": "2021-09-13T20:06:46.238167Z",
     "shell.execute_reply": "2021-09-13T20:06:46.238703Z"
    },
    "papermill": {
     "duration": 0.02566,
     "end_time": "2021-09-13T20:06:46.238862",
     "exception": false,
     "start_time": "2021-09-13T20:06:46.213202",
     "status": "completed"
    },
    "tags": []
   },
   "outputs": [],
   "source": [
    "query = \"\"\"\n",
    "        SELECT *\n",
    "        FROM `bigquery-public-data.openaq.global_air_quality`\n",
    "        WHERE country = 'US'\n",
    "        \"\"\""
   ]
  },
  {
   "cell_type": "markdown",
   "id": "b8de9184",
   "metadata": {
    "papermill": {
     "duration": 0.018769,
     "end_time": "2021-09-13T20:06:46.276794",
     "exception": false,
     "start_time": "2021-09-13T20:06:46.258025",
     "status": "completed"
    },
    "tags": []
   },
   "source": [
    "# Q&A: Notes on formatting\n",
    "\n",
    "The formatting of the SQL query might feel unfamiliar. If you have any questions, you can ask in the comments section at the bottom of this page.  Here are answers to two common questions:\n",
    "\n",
    "### **Question: What's up with the triple quotation marks (\"\"\")?**\n",
    "\n",
    "_Answer_: These tell Python that everything inside them is a single string, even though we have line breaks in it. The line breaks aren't necessary, but they make it easier to read your query.\n",
    "\n",
    "### **Question: Do you need to capitalize SELECT and FROM?**\n",
    "\n",
    "_Answer_: No, SQL doesn't care about capitalization. However, it's customary to capitalize your SQL commands, and it makes your queries a bit easier to read."
   ]
  },
  {
   "cell_type": "markdown",
   "id": "ccc6301b",
   "metadata": {
    "papermill": {
     "duration": 0.01876,
     "end_time": "2021-09-13T20:06:46.314499",
     "exception": false,
     "start_time": "2021-09-13T20:06:46.295739",
     "status": "completed"
    },
    "tags": []
   },
   "source": [
    "# Working with big datasets\n",
    "\n",
    "BigQuery datasets can be huge. We allow you to do a lot of computation for free, but everyone has some limit.\n",
    "\n",
    "**Each Kaggle user can scan 5TB every 30 days for free. Once you hit that limit, you'll have to wait for it to reset.**\n",
    "\n",
    "The [biggest dataset currently on Kaggle](https://www.kaggle.com/github/github-repos) is 3TB, so you can go through your 30-day limit in a couple queries if you aren't careful.\n",
    "\n",
    "Don't worry though: we'll teach you how to avoid scanning too much data at once, so that you don't run over your limit.\n",
    "\n",
    "To begin,you can estimate the size of any query before running it. Here is an example using the (*very large!*) Hacker News dataset. To see how much data a query will scan, we create a `QueryJobConfig` object and set the `dry_run` parameter to `True`."
   ]
  },
  {
   "cell_type": "code",
   "execution_count": 10,
   "id": "3c370d81",
   "metadata": {
    "execution": {
     "iopub.execute_input": "2021-09-13T20:06:46.359827Z",
     "iopub.status.busy": "2021-09-13T20:06:46.356946Z",
     "iopub.status.idle": "2021-09-13T20:06:46.735401Z",
     "shell.execute_reply": "2021-09-13T20:06:46.734855Z"
    },
    "papermill": {
     "duration": 0.402178,
     "end_time": "2021-09-13T20:06:46.735538",
     "exception": false,
     "start_time": "2021-09-13T20:06:46.333360",
     "status": "completed"
    },
    "tags": []
   },
   "outputs": [
    {
     "name": "stdout",
     "output_type": "stream",
     "text": [
      "This query will process 484323629 bytes.\n"
     ]
    }
   ],
   "source": [
    "# Query to get the score column from every row where the type column has value \"job\"\n",
    "query = \"\"\"\n",
    "        SELECT score, title\n",
    "        FROM `bigquery-public-data.hacker_news.full`\n",
    "        WHERE type = \"job\" \n",
    "        \"\"\"\n",
    "\n",
    "# Create a QueryJobConfig object to estimate size of query without running it\n",
    "dry_run_config = bigquery.QueryJobConfig(dry_run=True)\n",
    "\n",
    "# API request - dry run query to estimate costs\n",
    "dry_run_query_job = client.query(query, job_config=dry_run_config)\n",
    "\n",
    "print(\"This query will process {} bytes.\".format(dry_run_query_job.total_bytes_processed))"
   ]
  },
  {
   "cell_type": "markdown",
   "id": "9ad0381b",
   "metadata": {
    "papermill": {
     "duration": 0.018862,
     "end_time": "2021-09-13T20:06:46.774082",
     "exception": false,
     "start_time": "2021-09-13T20:06:46.755220",
     "status": "completed"
    },
    "tags": []
   },
   "source": [
    "You can also specify a parameter when running the query to limit how much data you are willing to scan. Here's an example with a low limit."
   ]
  },
  {
   "cell_type": "code",
   "execution_count": 11,
   "id": "356e95d4",
   "metadata": {
    "execution": {
     "iopub.execute_input": "2021-09-13T20:06:46.816131Z",
     "iopub.status.busy": "2021-09-13T20:06:46.815514Z",
     "iopub.status.idle": "2021-09-13T20:06:48.837892Z",
     "shell.execute_reply": "2021-09-13T20:06:48.838424Z"
    },
    "papermill": {
     "duration": 2.044831,
     "end_time": "2021-09-13T20:06:48.838597",
     "exception": false,
     "start_time": "2021-09-13T20:06:46.793766",
     "status": "completed"
    },
    "tags": []
   },
   "outputs": [
    {
     "data": {
      "text/html": [
       "<div>\n",
       "<style scoped>\n",
       "    .dataframe tbody tr th:only-of-type {\n",
       "        vertical-align: middle;\n",
       "    }\n",
       "\n",
       "    .dataframe tbody tr th {\n",
       "        vertical-align: top;\n",
       "    }\n",
       "\n",
       "    .dataframe thead th {\n",
       "        text-align: right;\n",
       "    }\n",
       "</style>\n",
       "<table border=\"1\" class=\"dataframe\">\n",
       "  <thead>\n",
       "    <tr style=\"text-align: right;\">\n",
       "      <th></th>\n",
       "      <th>score</th>\n",
       "      <th>title</th>\n",
       "    </tr>\n",
       "  </thead>\n",
       "  <tbody>\n",
       "    <tr>\n",
       "      <th>0</th>\n",
       "      <td>1.0</td>\n",
       "      <td>Like data engineering? Stealth-mode big data s...</td>\n",
       "    </tr>\n",
       "    <tr>\n",
       "      <th>1</th>\n",
       "      <td>1.0</td>\n",
       "      <td>Airware (YC W13) Is Hiring: Analyze Drone Data</td>\n",
       "    </tr>\n",
       "    <tr>\n",
       "      <th>2</th>\n",
       "      <td>1.0</td>\n",
       "      <td>Nimble (YC S17) seeks Django expert for contra...</td>\n",
       "    </tr>\n",
       "    <tr>\n",
       "      <th>3</th>\n",
       "      <td>1.0</td>\n",
       "      <td>ZeroCater (YC W11) is looking for a full-stack...</td>\n",
       "    </tr>\n",
       "    <tr>\n",
       "      <th>4</th>\n",
       "      <td>1.0</td>\n",
       "      <td>Gen Z advisory board wanted at Guggy (YC S17) ...</td>\n",
       "    </tr>\n",
       "    <tr>\n",
       "      <th>...</th>\n",
       "      <td>...</td>\n",
       "      <td>...</td>\n",
       "    </tr>\n",
       "    <tr>\n",
       "      <th>14443</th>\n",
       "      <td>8.0</td>\n",
       "      <td>Heroku is hiring a Support Programmer</td>\n",
       "    </tr>\n",
       "    <tr>\n",
       "      <th>14444</th>\n",
       "      <td>8.0</td>\n",
       "      <td>BackType is hiring</td>\n",
       "    </tr>\n",
       "    <tr>\n",
       "      <th>14445</th>\n",
       "      <td>10.0</td>\n",
       "      <td>Hipmunk is Hiring a Web Engineer.</td>\n",
       "    </tr>\n",
       "    <tr>\n",
       "      <th>14446</th>\n",
       "      <td>12.0</td>\n",
       "      <td>Scoopler is Looking for Great Front-End Develo...</td>\n",
       "    </tr>\n",
       "    <tr>\n",
       "      <th>14447</th>\n",
       "      <td>15.0</td>\n",
       "      <td>[SouthBay] Buxfer: looking for smart hackers t...</td>\n",
       "    </tr>\n",
       "  </tbody>\n",
       "</table>\n",
       "<p>14448 rows × 2 columns</p>\n",
       "</div>"
      ],
      "text/plain": [
       "       score                                              title\n",
       "0        1.0  Like data engineering? Stealth-mode big data s...\n",
       "1        1.0     Airware (YC W13) Is Hiring: Analyze Drone Data\n",
       "2        1.0  Nimble (YC S17) seeks Django expert for contra...\n",
       "3        1.0  ZeroCater (YC W11) is looking for a full-stack...\n",
       "4        1.0  Gen Z advisory board wanted at Guggy (YC S17) ...\n",
       "...      ...                                                ...\n",
       "14443    8.0              Heroku is hiring a Support Programmer\n",
       "14444    8.0                                 BackType is hiring\n",
       "14445   10.0                  Hipmunk is Hiring a Web Engineer.\n",
       "14446   12.0  Scoopler is Looking for Great Front-End Develo...\n",
       "14447   15.0  [SouthBay] Buxfer: looking for smart hackers t...\n",
       "\n",
       "[14448 rows x 2 columns]"
      ]
     },
     "execution_count": 11,
     "metadata": {},
     "output_type": "execute_result"
    }
   ],
   "source": [
    "# Only run the query if it's less than 1 MB\n",
    "ONE_MB = 1000*1000\n",
    "safe_config = bigquery.QueryJobConfig(maximum_bytes_billed=ONE_MB)\n",
    "\n",
    "# Set up the query (will only run if it's less than 1 MB)\n",
    "safe_query_job = client.query(query, job_config=safe_config)\n",
    "\n",
    "# API request - try to run the query, and return a pandas DataFrame\n",
    "safe_query_job.to_dataframe()"
   ]
  },
  {
   "cell_type": "markdown",
   "id": "a9c778a2",
   "metadata": {
    "papermill": {
     "duration": 0.019964,
     "end_time": "2021-09-13T20:06:48.880731",
     "exception": false,
     "start_time": "2021-09-13T20:06:48.860767",
     "status": "completed"
    },
    "tags": []
   },
   "source": [
    "In this case, the query was cancelled, because the limit of 1 MB was exceeded.  However, we can increase the limit to run the query successfully!"
   ]
  },
  {
   "cell_type": "code",
   "execution_count": 12,
   "id": "f301c635",
   "metadata": {
    "execution": {
     "iopub.execute_input": "2021-09-13T20:06:48.929416Z",
     "iopub.status.busy": "2021-09-13T20:06:48.928763Z",
     "iopub.status.idle": "2021-09-13T20:06:50.887582Z",
     "shell.execute_reply": "2021-09-13T20:06:50.886735Z"
    },
    "papermill": {
     "duration": 1.986693,
     "end_time": "2021-09-13T20:06:50.887722",
     "exception": false,
     "start_time": "2021-09-13T20:06:48.901029",
     "status": "completed"
    },
    "tags": []
   },
   "outputs": [
    {
     "name": "stderr",
     "output_type": "stream",
     "text": [
      "/opt/conda/lib/python3.7/site-packages/google/cloud/bigquery/client.py:440: UserWarning: Cannot create BigQuery Storage client, the dependency google-cloud-bigquery-storage is not installed.\n",
      "  \"Cannot create BigQuery Storage client, the dependency \"\n"
     ]
    },
    {
     "data": {
      "text/plain": [
       "1.799465819678048"
      ]
     },
     "execution_count": 12,
     "metadata": {},
     "output_type": "execute_result"
    }
   ],
   "source": [
    "# Only run the query if it's less than 1 GB\n",
    "ONE_GB = 1000*1000*1000\n",
    "safe_config = bigquery.QueryJobConfig(maximum_bytes_billed=ONE_GB)\n",
    "\n",
    "# Set up the query (will only run if it's less than 1 GB)\n",
    "safe_query_job = client.query(query, job_config=safe_config)\n",
    "\n",
    "# API request - try to run the query, and return a pandas DataFrame\n",
    "job_post_scores = safe_query_job.to_dataframe()\n",
    "\n",
    "# Print average score for job posts\n",
    "job_post_scores.score.mean()"
   ]
  },
  {
   "cell_type": "markdown",
   "id": "4317cac3",
   "metadata": {
    "papermill": {
     "duration": 0.019828,
     "end_time": "2021-09-13T20:06:50.928958",
     "exception": false,
     "start_time": "2021-09-13T20:06:50.909130",
     "status": "completed"
    },
    "tags": []
   },
   "source": [
    "# Your turn\n",
    "\n",
    "Writing **SELECT** statements is the key to using SQL. So **[try your new skills](https://www.kaggle.com/kernels/fork/681989)**!\n"
   ]
  }
 ],
 "metadata": {
  "kernelspec": {
   "display_name": "Python 3",
   "language": "python",
   "name": "python3"
  },
  "language_info": {
   "codemirror_mode": {
    "name": "ipython",
    "version": 3
   },
   "file_extension": ".py",
   "mimetype": "text/x-python",
   "name": "python",
   "nbconvert_exporter": "python",
   "pygments_lexer": "ipython3",
   "version": "3.7.10"
  },
  "papermill": {
   "default_parameters": {},
   "duration": 16.197567,
   "end_time": "2021-09-13T20:06:51.460165",
   "environment_variables": {},
   "exception": null,
   "input_path": "__notebook__.ipynb",
   "output_path": "__notebook__.ipynb",
   "parameters": {},
   "start_time": "2021-09-13T20:06:35.262598",
   "version": "2.3.3"
  }
 },
 "nbformat": 4,
 "nbformat_minor": 5
}
