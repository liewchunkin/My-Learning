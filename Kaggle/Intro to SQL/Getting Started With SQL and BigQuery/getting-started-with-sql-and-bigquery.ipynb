{
 "cells": [
  {
   "cell_type": "markdown",
   "id": "25f45040",
   "metadata": {
    "papermill": {
     "duration": 0.01057,
     "end_time": "2021-09-13T20:07:00.186239",
     "exception": false,
     "start_time": "2021-09-13T20:07:00.175669",
     "status": "completed"
    },
    "tags": []
   },
   "source": [
    "# Introduction\n",
    "\n",
    "Structured Query Language, or **SQL**, is the programming language used with databases, and it is an important skill for any data scientist. In this course, you'll build your SQL skills using **BigQuery**, a web service that lets you apply SQL to huge datasets.\n",
    "\n",
    "In this lesson, you'll learn the basics of accessing and examining BigQuery datasets. After you have a handle on these basics, we'll come back to build your SQL skills.\n",
    "\n",
    "# Your first BigQuery commands\n",
    "\n",
    "To use BigQuery, we'll import the Python package below:"
   ]
  },
  {
   "cell_type": "code",
   "execution_count": 1,
   "id": "7a74ad63",
   "metadata": {
    "execution": {
     "iopub.execute_input": "2021-09-13T20:07:00.209394Z",
     "iopub.status.busy": "2021-09-13T20:07:00.208206Z",
     "iopub.status.idle": "2021-09-13T20:07:00.216948Z",
     "shell.execute_reply": "2021-09-13T20:07:00.217678Z"
    },
    "papermill": {
     "duration": 0.022197,
     "end_time": "2021-09-13T20:07:00.217990",
     "exception": false,
     "start_time": "2021-09-13T20:07:00.195793",
     "status": "completed"
    },
    "tags": []
   },
   "outputs": [],
   "source": [
    "from google.cloud import bigquery"
   ]
  },
  {
   "cell_type": "markdown",
   "id": "a55ff514",
   "metadata": {
    "papermill": {
     "duration": 0.008726,
     "end_time": "2021-09-13T20:07:00.236537",
     "exception": false,
     "start_time": "2021-09-13T20:07:00.227811",
     "status": "completed"
    },
    "tags": []
   },
   "source": [
    "The first step in the workflow is to create a [`Client`](https://google-cloud.readthedocs.io/en/latest/bigquery/generated/google.cloud.bigquery.client.Client.html#google.cloud.bigquery.client.Client) object.  As you'll soon see, this `Client` object will play a central role in retrieving information from BigQuery datasets."
   ]
  },
  {
   "cell_type": "code",
   "execution_count": 2,
   "id": "8cf710f0",
   "metadata": {
    "execution": {
     "iopub.execute_input": "2021-09-13T20:07:00.267194Z",
     "iopub.status.busy": "2021-09-13T20:07:00.266418Z",
     "iopub.status.idle": "2021-09-13T20:07:00.271186Z",
     "shell.execute_reply": "2021-09-13T20:07:00.271992Z"
    },
    "papermill": {
     "duration": 0.022477,
     "end_time": "2021-09-13T20:07:00.272229",
     "exception": false,
     "start_time": "2021-09-13T20:07:00.249752",
     "status": "completed"
    },
    "tags": []
   },
   "outputs": [
    {
     "name": "stdout",
     "output_type": "stream",
     "text": [
      "Using Kaggle's public dataset BigQuery integration.\n"
     ]
    }
   ],
   "source": [
    "# Create a \"Client\" object\n",
    "client = bigquery.Client()"
   ]
  },
  {
   "cell_type": "markdown",
   "id": "8f4136fc",
   "metadata": {
    "papermill": {
     "duration": 0.01111,
     "end_time": "2021-09-13T20:07:00.298239",
     "exception": false,
     "start_time": "2021-09-13T20:07:00.287129",
     "status": "completed"
    },
    "tags": []
   },
   "source": [
    "We'll work with a dataset of posts on [Hacker News](https://news.ycombinator.com/), a website focusing on computer science and cybersecurity news.\n",
    "\n",
    "In BigQuery, each dataset is contained in a corresponding project.  In this case, our `hacker_news` dataset is contained in the `bigquery-public-data` project.  To access the dataset, \n",
    "- We begin by constructing a reference to the dataset with the [`dataset()`](https://google-cloud.readthedocs.io/en/latest/bigquery/generated/google.cloud.bigquery.client.Client.dataset.html#google.cloud.bigquery.client.Client.dataset) method.  \n",
    "- Next, we use the [`get_dataset()`](https://google-cloud.readthedocs.io/en/latest/bigquery/generated/google.cloud.bigquery.client.Client.get_dataset.html#google.cloud.bigquery.client.Client.get_dataset) method, along with the reference we just constructed, to fetch the dataset."
   ]
  },
  {
   "cell_type": "code",
   "execution_count": 3,
   "id": "6fd34759",
   "metadata": {
    "execution": {
     "iopub.execute_input": "2021-09-13T20:07:00.323236Z",
     "iopub.status.busy": "2021-09-13T20:07:00.322454Z",
     "iopub.status.idle": "2021-09-13T20:07:00.541114Z",
     "shell.execute_reply": "2021-09-13T20:07:00.541965Z"
    },
    "papermill": {
     "duration": 0.233264,
     "end_time": "2021-09-13T20:07:00.542159",
     "exception": false,
     "start_time": "2021-09-13T20:07:00.308895",
     "status": "completed"
    },
    "tags": []
   },
   "outputs": [],
   "source": [
    "# Construct a reference to the \"hacker_news\" dataset\n",
    "dataset_ref = client.dataset(\"hacker_news\", project=\"bigquery-public-data\")\n",
    "\n",
    "# API request - fetch the dataset\n",
    "dataset = client.get_dataset(dataset_ref)"
   ]
  },
  {
   "cell_type": "markdown",
   "id": "3215c388",
   "metadata": {
    "papermill": {
     "duration": 0.009169,
     "end_time": "2021-09-13T20:07:00.560852",
     "exception": false,
     "start_time": "2021-09-13T20:07:00.551683",
     "status": "completed"
    },
    "tags": []
   },
   "source": [
    "Every dataset is just a collection of tables.  You can think of a dataset as a spreadsheet file containing multiple tables, all composed of rows and columns.\n",
    "\n",
    "We use the `list_tables()` method to list the tables in the dataset."
   ]
  },
  {
   "cell_type": "code",
   "execution_count": 4,
   "id": "4b841836",
   "metadata": {
    "execution": {
     "iopub.execute_input": "2021-09-13T20:07:00.590866Z",
     "iopub.status.busy": "2021-09-13T20:07:00.590270Z",
     "iopub.status.idle": "2021-09-13T20:07:00.743066Z",
     "shell.execute_reply": "2021-09-13T20:07:00.742481Z"
    },
    "papermill": {
     "duration": 0.170675,
     "end_time": "2021-09-13T20:07:00.743216",
     "exception": false,
     "start_time": "2021-09-13T20:07:00.572541",
     "status": "completed"
    },
    "tags": []
   },
   "outputs": [
    {
     "name": "stdout",
     "output_type": "stream",
     "text": [
      "comments\n",
      "full\n",
      "full_201510\n",
      "stories\n"
     ]
    }
   ],
   "source": [
    "# List all the tables in the \"hacker_news\" dataset\n",
    "tables = list(client.list_tables(dataset))\n",
    "\n",
    "# Print names of all tables in the dataset (there are four!)\n",
    "for table in tables:  \n",
    "    print(table.table_id)"
   ]
  },
  {
   "cell_type": "markdown",
   "id": "4c7584d1",
   "metadata": {
    "papermill": {
     "duration": 0.009493,
     "end_time": "2021-09-13T20:07:00.762765",
     "exception": false,
     "start_time": "2021-09-13T20:07:00.753272",
     "status": "completed"
    },
    "tags": []
   },
   "source": [
    "Similar to how we fetched a dataset, we can fetch a table.  In the code cell below, we fetch the `full` table in the `hacker_news` dataset."
   ]
  },
  {
   "cell_type": "code",
   "execution_count": 5,
   "id": "d3467b03",
   "metadata": {
    "execution": {
     "iopub.execute_input": "2021-09-13T20:07:00.789182Z",
     "iopub.status.busy": "2021-09-13T20:07:00.788547Z",
     "iopub.status.idle": "2021-09-13T20:07:00.915659Z",
     "shell.execute_reply": "2021-09-13T20:07:00.915153Z"
    },
    "papermill": {
     "duration": 0.143101,
     "end_time": "2021-09-13T20:07:00.915803",
     "exception": false,
     "start_time": "2021-09-13T20:07:00.772702",
     "status": "completed"
    },
    "tags": []
   },
   "outputs": [],
   "source": [
    "# Construct a reference to the \"full\" table\n",
    "table_ref = dataset_ref.table(\"full\")\n",
    "\n",
    "# API request - fetch the table\n",
    "table = client.get_table(table_ref)"
   ]
  },
  {
   "cell_type": "markdown",
   "id": "01ce24ff",
   "metadata": {
    "papermill": {
     "duration": 0.009732,
     "end_time": "2021-09-13T20:07:00.936013",
     "exception": false,
     "start_time": "2021-09-13T20:07:00.926281",
     "status": "completed"
    },
    "tags": []
   },
   "source": [
    "In the next section, you'll explore the contents of this table in more detail.  For now, take the time to use the image below to consolidate what you've learned so far.\n",
    "\n",
    "![first_commands](https://i.imgur.com/biYqbUB.png)"
   ]
  },
  {
   "cell_type": "markdown",
   "id": "3be5cfa9",
   "metadata": {
    "papermill": {
     "duration": 0.009672,
     "end_time": "2021-09-13T20:07:00.956856",
     "exception": false,
     "start_time": "2021-09-13T20:07:00.947184",
     "status": "completed"
    },
    "tags": []
   },
   "source": [
    "# Table schema\n",
    "\n",
    "The structure of a table is called its **schema**.  We need to understand a table's schema to effectively pull out the data we want. \n",
    "\n",
    "In this example, we'll investigate the `full` table that we fetched above."
   ]
  },
  {
   "cell_type": "code",
   "execution_count": 6,
   "id": "7841946c",
   "metadata": {
    "execution": {
     "iopub.execute_input": "2021-09-13T20:07:00.984005Z",
     "iopub.status.busy": "2021-09-13T20:07:00.983210Z",
     "iopub.status.idle": "2021-09-13T20:07:00.987589Z",
     "shell.execute_reply": "2021-09-13T20:07:00.987074Z"
    },
    "papermill": {
     "duration": 0.020832,
     "end_time": "2021-09-13T20:07:00.987719",
     "exception": false,
     "start_time": "2021-09-13T20:07:00.966887",
     "status": "completed"
    },
    "tags": []
   },
   "outputs": [
    {
     "data": {
      "text/plain": [
       "[SchemaField('title', 'STRING', 'NULLABLE', 'Story title', (), None),\n",
       " SchemaField('url', 'STRING', 'NULLABLE', 'Story url', (), None),\n",
       " SchemaField('text', 'STRING', 'NULLABLE', 'Story or comment text', (), None),\n",
       " SchemaField('dead', 'BOOLEAN', 'NULLABLE', 'Is dead?', (), None),\n",
       " SchemaField('by', 'STRING', 'NULLABLE', \"The username of the item's author.\", (), None),\n",
       " SchemaField('score', 'INTEGER', 'NULLABLE', 'Story score', (), None),\n",
       " SchemaField('time', 'INTEGER', 'NULLABLE', 'Unix time', (), None),\n",
       " SchemaField('timestamp', 'TIMESTAMP', 'NULLABLE', 'Timestamp for the unix time', (), None),\n",
       " SchemaField('type', 'STRING', 'NULLABLE', 'Type of details (comment, comment_ranking, poll, story, job, pollopt)', (), None),\n",
       " SchemaField('id', 'INTEGER', 'NULLABLE', \"The item's unique id.\", (), None),\n",
       " SchemaField('parent', 'INTEGER', 'NULLABLE', 'Parent comment ID', (), None),\n",
       " SchemaField('descendants', 'INTEGER', 'NULLABLE', 'Number of story or poll descendants', (), None),\n",
       " SchemaField('ranking', 'INTEGER', 'NULLABLE', 'Comment ranking', (), None),\n",
       " SchemaField('deleted', 'BOOLEAN', 'NULLABLE', 'Is deleted?', (), None)]"
      ]
     },
     "execution_count": 6,
     "metadata": {},
     "output_type": "execute_result"
    }
   ],
   "source": [
    "# Print information on all the columns in the \"full\" table in the \"hacker_news\" dataset\n",
    "table.schema"
   ]
  },
  {
   "cell_type": "markdown",
   "id": "c9041465",
   "metadata": {
    "papermill": {
     "duration": 0.010877,
     "end_time": "2021-09-13T20:07:01.009194",
     "exception": false,
     "start_time": "2021-09-13T20:07:00.998317",
     "status": "completed"
    },
    "tags": []
   },
   "source": [
    "Each [`SchemaField`](https://googleapis.github.io/google-cloud-python/latest/bigquery/generated/google.cloud.bigquery.schema.SchemaField.html#google.cloud.bigquery.schema.SchemaField) tells us about a specific column (which we also refer to as a **field**). In order, the information is:\n",
    "\n",
    "* The **name** of the column\n",
    "* The **field type** (or datatype) in the column\n",
    "* The **mode** of the column (`'NULLABLE'` means that a column allows NULL values, and is the default)\n",
    "* A **description** of the data in that column\n",
    "\n",
    "The first field has the SchemaField:\n",
    "\n",
    "`SchemaField('by', 'string', 'NULLABLE', \"The username of the item's author.\",())`\n",
    "\n",
    "This tells us:\n",
    "- the field (or column) is called `by`,\n",
    "- the data in this field is strings, \n",
    "- NULL values are allowed, and\n",
    "- it contains the usernames corresponding to each item's author.\n",
    "\n",
    "We can use the [`list_rows()`](https://google-cloud.readthedocs.io/en/latest/bigquery/generated/google.cloud.bigquery.client.Client.list_rows.html#google.cloud.bigquery.client.Client.list_rows) method to check just the first five lines of of the `full` table to make sure this is right. (Sometimes databases have outdated descriptions, so it's good to check.)  This returns a BigQuery [`RowIterator`](https://googleapis.github.io/google-cloud-python/latest/bigquery/generated/google.cloud.bigquery.table.RowIterator.html) object that can quickly be converted to a pandas DataFrame with the [`to_dataframe()`](https://google-cloud.readthedocs.io/en/latest/bigquery/generated/google.cloud.bigquery.table.RowIterator.to_dataframe.html) method."
   ]
  },
  {
   "cell_type": "code",
   "execution_count": 7,
   "id": "e72660d0",
   "metadata": {
    "execution": {
     "iopub.execute_input": "2021-09-13T20:07:01.038606Z",
     "iopub.status.busy": "2021-09-13T20:07:01.037961Z",
     "iopub.status.idle": "2021-09-13T20:07:01.374377Z",
     "shell.execute_reply": "2021-09-13T20:07:01.373807Z"
    },
    "papermill": {
     "duration": 0.354892,
     "end_time": "2021-09-13T20:07:01.374513",
     "exception": false,
     "start_time": "2021-09-13T20:07:01.019621",
     "status": "completed"
    },
    "tags": []
   },
   "outputs": [
    {
     "name": "stderr",
     "output_type": "stream",
     "text": [
      "/opt/conda/lib/python3.7/site-packages/ipykernel_launcher.py:2: UserWarning: Cannot use bqstorage_client if max_results is set, reverting to fetching data with the tabledata.list endpoint.\n",
      "  \n"
     ]
    },
    {
     "data": {
      "text/html": [
       "<div>\n",
       "<style scoped>\n",
       "    .dataframe tbody tr th:only-of-type {\n",
       "        vertical-align: middle;\n",
       "    }\n",
       "\n",
       "    .dataframe tbody tr th {\n",
       "        vertical-align: top;\n",
       "    }\n",
       "\n",
       "    .dataframe thead th {\n",
       "        text-align: right;\n",
       "    }\n",
       "</style>\n",
       "<table border=\"1\" class=\"dataframe\">\n",
       "  <thead>\n",
       "    <tr style=\"text-align: right;\">\n",
       "      <th></th>\n",
       "      <th>title</th>\n",
       "      <th>url</th>\n",
       "      <th>text</th>\n",
       "      <th>dead</th>\n",
       "      <th>by</th>\n",
       "      <th>score</th>\n",
       "      <th>time</th>\n",
       "      <th>timestamp</th>\n",
       "      <th>type</th>\n",
       "      <th>id</th>\n",
       "      <th>parent</th>\n",
       "      <th>descendants</th>\n",
       "      <th>ranking</th>\n",
       "      <th>deleted</th>\n",
       "    </tr>\n",
       "  </thead>\n",
       "  <tbody>\n",
       "    <tr>\n",
       "      <th>0</th>\n",
       "      <td>None</td>\n",
       "      <td>None</td>\n",
       "      <td>&amp;gt; So you&amp;#x27;re essentially saying that if...</td>\n",
       "      <td>None</td>\n",
       "      <td>dragontamer</td>\n",
       "      <td>NaN</td>\n",
       "      <td>1628027298</td>\n",
       "      <td>2021-08-03 21:48:18+00:00</td>\n",
       "      <td>comment</td>\n",
       "      <td>28054655</td>\n",
       "      <td>28054629</td>\n",
       "      <td>NaN</td>\n",
       "      <td>NaN</td>\n",
       "      <td>None</td>\n",
       "    </tr>\n",
       "    <tr>\n",
       "      <th>1</th>\n",
       "      <td>None</td>\n",
       "      <td>None</td>\n",
       "      <td>Google shows enough I guess but things like [0...</td>\n",
       "      <td>None</td>\n",
       "      <td>tluyben2</td>\n",
       "      <td>NaN</td>\n",
       "      <td>1628027334</td>\n",
       "      <td>2021-08-03 21:48:54+00:00</td>\n",
       "      <td>comment</td>\n",
       "      <td>28054657</td>\n",
       "      <td>28054200</td>\n",
       "      <td>NaN</td>\n",
       "      <td>NaN</td>\n",
       "      <td>None</td>\n",
       "    </tr>\n",
       "    <tr>\n",
       "      <th>2</th>\n",
       "      <td>None</td>\n",
       "      <td>None</td>\n",
       "      <td>Agreed. Partially completed might be nice if y...</td>\n",
       "      <td>None</td>\n",
       "      <td>thelastknowngod</td>\n",
       "      <td>NaN</td>\n",
       "      <td>1628027301</td>\n",
       "      <td>2021-08-03 21:48:21+00:00</td>\n",
       "      <td>comment</td>\n",
       "      <td>28054656</td>\n",
       "      <td>28054326</td>\n",
       "      <td>NaN</td>\n",
       "      <td>NaN</td>\n",
       "      <td>None</td>\n",
       "    </tr>\n",
       "    <tr>\n",
       "      <th>3</th>\n",
       "      <td>None</td>\n",
       "      <td>None</td>\n",
       "      <td>Why not just say that two situations where the...</td>\n",
       "      <td>None</td>\n",
       "      <td>drdeca</td>\n",
       "      <td>NaN</td>\n",
       "      <td>1628027281</td>\n",
       "      <td>2021-08-03 21:48:01+00:00</td>\n",
       "      <td>comment</td>\n",
       "      <td>28054651</td>\n",
       "      <td>28054481</td>\n",
       "      <td>NaN</td>\n",
       "      <td>NaN</td>\n",
       "      <td>None</td>\n",
       "    </tr>\n",
       "    <tr>\n",
       "      <th>4</th>\n",
       "      <td>None</td>\n",
       "      <td>None</td>\n",
       "      <td>The problem is that his view has cost him mill...</td>\n",
       "      <td>None</td>\n",
       "      <td>MattGaiser</td>\n",
       "      <td>NaN</td>\n",
       "      <td>1628027277</td>\n",
       "      <td>2021-08-03 21:47:57+00:00</td>\n",
       "      <td>comment</td>\n",
       "      <td>28054650</td>\n",
       "      <td>28054335</td>\n",
       "      <td>NaN</td>\n",
       "      <td>NaN</td>\n",
       "      <td>None</td>\n",
       "    </tr>\n",
       "  </tbody>\n",
       "</table>\n",
       "</div>"
      ],
      "text/plain": [
       "  title   url                                               text  dead  \\\n",
       "0  None  None  &gt; So you&#x27;re essentially saying that if...  None   \n",
       "1  None  None  Google shows enough I guess but things like [0...  None   \n",
       "2  None  None  Agreed. Partially completed might be nice if y...  None   \n",
       "3  None  None  Why not just say that two situations where the...  None   \n",
       "4  None  None  The problem is that his view has cost him mill...  None   \n",
       "\n",
       "                by  score        time                 timestamp     type  \\\n",
       "0      dragontamer    NaN  1628027298 2021-08-03 21:48:18+00:00  comment   \n",
       "1         tluyben2    NaN  1628027334 2021-08-03 21:48:54+00:00  comment   \n",
       "2  thelastknowngod    NaN  1628027301 2021-08-03 21:48:21+00:00  comment   \n",
       "3           drdeca    NaN  1628027281 2021-08-03 21:48:01+00:00  comment   \n",
       "4       MattGaiser    NaN  1628027277 2021-08-03 21:47:57+00:00  comment   \n",
       "\n",
       "         id    parent  descendants  ranking deleted  \n",
       "0  28054655  28054629          NaN      NaN    None  \n",
       "1  28054657  28054200          NaN      NaN    None  \n",
       "2  28054656  28054326          NaN      NaN    None  \n",
       "3  28054651  28054481          NaN      NaN    None  \n",
       "4  28054650  28054335          NaN      NaN    None  "
      ]
     },
     "execution_count": 7,
     "metadata": {},
     "output_type": "execute_result"
    }
   ],
   "source": [
    "# Preview the first five lines of the \"full\" table\n",
    "client.list_rows(table, max_results=5).to_dataframe()"
   ]
  },
  {
   "cell_type": "markdown",
   "id": "34f14b0d",
   "metadata": {
    "papermill": {
     "duration": 0.011221,
     "end_time": "2021-09-13T20:07:01.397076",
     "exception": false,
     "start_time": "2021-09-13T20:07:01.385855",
     "status": "completed"
    },
    "tags": []
   },
   "source": [
    "The `list_rows()` method will also let us look at just the information in a specific column. If we want to see the first five entries in the `by` column, for example, we can do that!"
   ]
  },
  {
   "cell_type": "code",
   "execution_count": 8,
   "id": "b27a135f",
   "metadata": {
    "execution": {
     "iopub.execute_input": "2021-09-13T20:07:01.426972Z",
     "iopub.status.busy": "2021-09-13T20:07:01.426292Z",
     "iopub.status.idle": "2021-09-13T20:07:01.714599Z",
     "shell.execute_reply": "2021-09-13T20:07:01.713921Z"
    },
    "papermill": {
     "duration": 0.306177,
     "end_time": "2021-09-13T20:07:01.714741",
     "exception": false,
     "start_time": "2021-09-13T20:07:01.408564",
     "status": "completed"
    },
    "tags": []
   },
   "outputs": [
    {
     "name": "stderr",
     "output_type": "stream",
     "text": [
      "/opt/conda/lib/python3.7/site-packages/ipykernel_launcher.py:2: UserWarning: Cannot use bqstorage_client if max_results is set, reverting to fetching data with the tabledata.list endpoint.\n",
      "  \n"
     ]
    },
    {
     "data": {
      "text/html": [
       "<div>\n",
       "<style scoped>\n",
       "    .dataframe tbody tr th:only-of-type {\n",
       "        vertical-align: middle;\n",
       "    }\n",
       "\n",
       "    .dataframe tbody tr th {\n",
       "        vertical-align: top;\n",
       "    }\n",
       "\n",
       "    .dataframe thead th {\n",
       "        text-align: right;\n",
       "    }\n",
       "</style>\n",
       "<table border=\"1\" class=\"dataframe\">\n",
       "  <thead>\n",
       "    <tr style=\"text-align: right;\">\n",
       "      <th></th>\n",
       "      <th>title</th>\n",
       "    </tr>\n",
       "  </thead>\n",
       "  <tbody>\n",
       "    <tr>\n",
       "      <th>0</th>\n",
       "      <td>None</td>\n",
       "    </tr>\n",
       "    <tr>\n",
       "      <th>1</th>\n",
       "      <td>None</td>\n",
       "    </tr>\n",
       "    <tr>\n",
       "      <th>2</th>\n",
       "      <td>None</td>\n",
       "    </tr>\n",
       "    <tr>\n",
       "      <th>3</th>\n",
       "      <td>None</td>\n",
       "    </tr>\n",
       "    <tr>\n",
       "      <th>4</th>\n",
       "      <td>None</td>\n",
       "    </tr>\n",
       "  </tbody>\n",
       "</table>\n",
       "</div>"
      ],
      "text/plain": [
       "  title\n",
       "0  None\n",
       "1  None\n",
       "2  None\n",
       "3  None\n",
       "4  None"
      ]
     },
     "execution_count": 8,
     "metadata": {},
     "output_type": "execute_result"
    }
   ],
   "source": [
    "# Preview the first five entries in the \"by\" column of the \"full\" table\n",
    "client.list_rows(table, selected_fields=table.schema[:1], max_results=5).to_dataframe()"
   ]
  },
  {
   "cell_type": "markdown",
   "id": "64459e29",
   "metadata": {
    "papermill": {
     "duration": 0.013157,
     "end_time": "2021-09-13T20:07:01.740641",
     "exception": false,
     "start_time": "2021-09-13T20:07:01.727484",
     "status": "completed"
    },
    "tags": []
   },
   "source": [
    "# Disclaimer\n",
    "Before we go into the coding exercise, a quick disclaimer for those who already know some SQL:\n",
    "\n",
    "**Each Kaggle user can scan 5TB every 30 days for free.  Once you hit that limit, you'll have to wait for it to reset.**\n",
    "\n",
    "The commands you've seen so far won't demand a meaningful fraction of that limit. But some BiqQuery datasets are huge. So, if you already know SQL, wait to run SELECT queries until you've seen how to use your allotment effectively. If you are like most people reading this, you don't know how to write these queries yet, so you don't need to worry about this disclaimer.\n"
   ]
  },
  {
   "cell_type": "markdown",
   "id": "567347de",
   "metadata": {
    "papermill": {
     "duration": 0.011873,
     "end_time": "2021-09-13T20:07:01.764828",
     "exception": false,
     "start_time": "2021-09-13T20:07:01.752955",
     "status": "completed"
    },
    "tags": []
   },
   "source": [
    "# Your turn\n",
    "Practice the commands you've seen to **[explore the structure of a dataset](https://www.kaggle.com/kernels/fork/1058477)** with crimes in the city of Chicago."
   ]
  }
 ],
 "metadata": {
  "kernelspec": {
   "display_name": "Python 3",
   "language": "python",
   "name": "python3"
  },
  "language_info": {
   "codemirror_mode": {
    "name": "ipython",
    "version": 3
   },
   "file_extension": ".py",
   "mimetype": "text/x-python",
   "name": "python",
   "nbconvert_exporter": "python",
   "pygments_lexer": "ipython3",
   "version": "3.7.10"
  },
  "papermill": {
   "default_parameters": {},
   "duration": 12.743495,
   "end_time": "2021-09-13T20:07:05.372818",
   "environment_variables": {},
   "exception": null,
   "input_path": "__notebook__.ipynb",
   "output_path": "__notebook__.ipynb",
   "parameters": {},
   "start_time": "2021-09-13T20:06:52.629323",
   "version": "2.3.3"
  }
 },
 "nbformat": 4,
 "nbformat_minor": 5
}
