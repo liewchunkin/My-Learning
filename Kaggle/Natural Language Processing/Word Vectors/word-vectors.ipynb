{
 "cells": [
  {
   "cell_type": "markdown",
   "id": "55e8148f",
   "metadata": {
    "papermill": {
     "duration": 0.01123,
     "end_time": "2021-09-13T20:11:15.312624",
     "exception": false,
     "start_time": "2021-09-13T20:11:15.301394",
     "status": "completed"
    },
    "tags": []
   },
   "source": [
    "# Word Embeddings\n",
    "\n",
    "You know at this point that machine learning on text requires that you first represent the text numerically. So far, you've done this with bag of words representations. But you can usually do better with word embeddings.\n",
    "\n",
    "**Word embeddings** (also called word vectors) represent each word numerically in such a way that the vector corresponds to how that word is used or what it means. Vector encodings are learned by considering the context in which the words appear. Words that appear in similar contexts will have similar vectors. For example, vectors for \"leopard\", \"lion\", and \"tiger\" will be close together, while they'll be far away from \"planet\" and \"castle\".\n",
    "\n",
    "Even cooler, relations between words can be examined with mathematical operations. Subtracting the vectors for \"man\" and \"woman\" will return another vector. If you add that to the vector for \"king\" the result is close to the vector for \"queen.\"\n",
    "\n",
    "![Word vector examples](https://www.tensorflow.org/images/linear-relationships.png)\n",
    "\n",
    "These vectors can be used as features for machine learning models. Word vectors will typically improve the performance of your models above bag of words encoding. spaCy provides embeddings learned from a model called Word2Vec. You can access them by loading a large language model like `en_core_web_lg`. Then they will be available on tokens from the `.vector` attribute."
   ]
  },
  {
   "cell_type": "code",
   "execution_count": 1,
   "id": "4c6bdcb7",
   "metadata": {
    "execution": {
     "iopub.execute_input": "2021-09-13T20:11:15.336496Z",
     "iopub.status.busy": "2021-09-13T20:11:15.335348Z",
     "iopub.status.idle": "2021-09-13T20:11:27.125001Z",
     "shell.execute_reply": "2021-09-13T20:11:27.124091Z"
    },
    "papermill": {
     "duration": 11.802428,
     "end_time": "2021-09-13T20:11:27.125203",
     "exception": false,
     "start_time": "2021-09-13T20:11:15.322775",
     "status": "completed"
    },
    "tags": []
   },
   "outputs": [],
   "source": [
    "import numpy as np\n",
    "import spacy\n",
    "\n",
    "# Need to load the large model to get the vectors\n",
    "nlp = spacy.load('en_core_web_lg')"
   ]
  },
  {
   "cell_type": "code",
   "execution_count": 2,
   "id": "dca90ce0",
   "metadata": {
    "execution": {
     "iopub.execute_input": "2021-09-13T20:11:27.158006Z",
     "iopub.status.busy": "2021-09-13T20:11:27.157162Z",
     "iopub.status.idle": "2021-09-13T20:11:27.189251Z",
     "shell.execute_reply": "2021-09-13T20:11:27.188643Z"
    },
    "papermill": {
     "duration": 0.053952,
     "end_time": "2021-09-13T20:11:27.189420",
     "exception": false,
     "start_time": "2021-09-13T20:11:27.135468",
     "status": "completed"
    },
    "tags": []
   },
   "outputs": [],
   "source": [
    "# Disabling other pipes because we don't need them and it'll speed up this part a bit\n",
    "text = \"These vectors can be used as features for machine learning models.\"\n",
    "with nlp.disable_pipes():\n",
    "    vectors = np.array([token.vector for token in  nlp(text)])"
   ]
  },
  {
   "cell_type": "code",
   "execution_count": 3,
   "id": "69451e87",
   "metadata": {
    "execution": {
     "iopub.execute_input": "2021-09-13T20:11:27.218709Z",
     "iopub.status.busy": "2021-09-13T20:11:27.218008Z",
     "iopub.status.idle": "2021-09-13T20:11:27.221418Z",
     "shell.execute_reply": "2021-09-13T20:11:27.221925Z"
    },
    "papermill": {
     "duration": 0.02224,
     "end_time": "2021-09-13T20:11:27.222125",
     "exception": false,
     "start_time": "2021-09-13T20:11:27.199885",
     "status": "completed"
    },
    "tags": []
   },
   "outputs": [
    {
     "data": {
      "text/plain": [
       "(12, 300)"
      ]
     },
     "execution_count": 3,
     "metadata": {},
     "output_type": "execute_result"
    }
   ],
   "source": [
    "vectors.shape"
   ]
  },
  {
   "cell_type": "markdown",
   "id": "434a0f01",
   "metadata": {
    "papermill": {
     "duration": 0.010707,
     "end_time": "2021-09-13T20:11:27.243520",
     "exception": false,
     "start_time": "2021-09-13T20:11:27.232813",
     "status": "completed"
    },
    "tags": []
   },
   "source": [
    "These are 300-dimensional vectors, with one vector for each word. However, we only have document-level labels and our models won't be able to use the word-level embeddings. So, you need a vector representation for the entire document. \n",
    "\n",
    "There are many ways to combine all the word vectors into a single document vector we can use for model training. A simple and surprisingly effective approach is simply averaging the vectors for each word in the document. Then, you can use these document vectors for modeling.\n",
    "\n",
    "spaCy calculates the average document vector which you can get with `doc.vector`. Here is an example loading the spam data and converting it to document vectors."
   ]
  },
  {
   "cell_type": "code",
   "execution_count": 4,
   "id": "135298fc",
   "metadata": {
    "execution": {
     "iopub.execute_input": "2021-09-13T20:11:27.268260Z",
     "iopub.status.busy": "2021-09-13T20:11:27.267543Z",
     "iopub.status.idle": "2021-09-13T20:12:31.047809Z",
     "shell.execute_reply": "2021-09-13T20:12:31.048494Z"
    },
    "papermill": {
     "duration": 63.794552,
     "end_time": "2021-09-13T20:12:31.048721",
     "exception": false,
     "start_time": "2021-09-13T20:11:27.254169",
     "status": "completed"
    },
    "tags": []
   },
   "outputs": [
    {
     "data": {
      "text/plain": [
       "(5572, 300)"
      ]
     },
     "execution_count": 4,
     "metadata": {},
     "output_type": "execute_result"
    }
   ],
   "source": [
    "import pandas as pd\n",
    "\n",
    "# Loading the spam data\n",
    "# ham is the label for non-spam messages\n",
    "spam = pd.read_csv('../input/nlp-course/spam.csv')\n",
    "\n",
    "with nlp.disable_pipes():\n",
    "    doc_vectors = np.array([nlp(text).vector for text in spam.text])\n",
    "    \n",
    "doc_vectors.shape"
   ]
  },
  {
   "cell_type": "markdown",
   "id": "94bc825e",
   "metadata": {
    "papermill": {
     "duration": 0.010607,
     "end_time": "2021-09-13T20:12:31.070260",
     "exception": false,
     "start_time": "2021-09-13T20:12:31.059653",
     "status": "completed"
    },
    "tags": []
   },
   "source": [
    "## Classification Models\n",
    "\n",
    "With the document vectors, you can train scikit-learn models, xgboost models, or any other standard approach to modeling."
   ]
  },
  {
   "cell_type": "code",
   "execution_count": 5,
   "id": "811b8120",
   "metadata": {
    "execution": {
     "iopub.execute_input": "2021-09-13T20:12:31.099556Z",
     "iopub.status.busy": "2021-09-13T20:12:31.098712Z",
     "iopub.status.idle": "2021-09-13T20:12:32.082093Z",
     "shell.execute_reply": "2021-09-13T20:12:32.081505Z"
    },
    "papermill": {
     "duration": 1.00102,
     "end_time": "2021-09-13T20:12:32.082264",
     "exception": false,
     "start_time": "2021-09-13T20:12:31.081244",
     "status": "completed"
    },
    "tags": []
   },
   "outputs": [],
   "source": [
    "from sklearn.model_selection import train_test_split\n",
    "\n",
    "X_train, X_test, y_train, y_test = train_test_split(doc_vectors, spam.label,\n",
    "                                                    test_size=0.1, random_state=1)"
   ]
  },
  {
   "cell_type": "markdown",
   "id": "971eb7f2",
   "metadata": {
    "papermill": {
     "duration": 0.010611,
     "end_time": "2021-09-13T20:12:32.104027",
     "exception": false,
     "start_time": "2021-09-13T20:12:32.093416",
     "status": "completed"
    },
    "tags": []
   },
   "source": [
    "Here is an example using [support vector machines (SVMs)](https://scikit-learn.org/stable/modules/svm.html#svm). Scikit-learn provides an SVM classifier `LinearSVC`. This works similar to other scikit-learn models."
   ]
  },
  {
   "cell_type": "code",
   "execution_count": 6,
   "id": "1895e5ce",
   "metadata": {
    "execution": {
     "iopub.execute_input": "2021-09-13T20:12:32.130389Z",
     "iopub.status.busy": "2021-09-13T20:12:32.129686Z",
     "iopub.status.idle": "2021-09-13T20:12:32.481146Z",
     "shell.execute_reply": "2021-09-13T20:12:32.482121Z"
    },
    "papermill": {
     "duration": 0.367117,
     "end_time": "2021-09-13T20:12:32.482387",
     "exception": false,
     "start_time": "2021-09-13T20:12:32.115270",
     "status": "completed"
    },
    "tags": []
   },
   "outputs": [
    {
     "name": "stdout",
     "output_type": "stream",
     "text": [
      "Accuracy: 97.312%\n"
     ]
    }
   ],
   "source": [
    "from sklearn.svm import LinearSVC\n",
    "\n",
    "# Set dual=False to speed up training, and it's not needed\n",
    "svc = LinearSVC(random_state=1, dual=False, max_iter=10000)\n",
    "svc.fit(X_train, y_train)\n",
    "print(f\"Accuracy: {svc.score(X_test, y_test) * 100:.3f}%\", )"
   ]
  },
  {
   "cell_type": "markdown",
   "id": "29407274",
   "metadata": {
    "papermill": {
     "duration": 0.019135,
     "end_time": "2021-09-13T20:12:32.521327",
     "exception": false,
     "start_time": "2021-09-13T20:12:32.502192",
     "status": "completed"
    },
    "tags": []
   },
   "source": [
    "## Document Similarity\n",
    "\n",
    "Documents with similar content generally have similar vectors. So you can find similar documents by measuring the similarity between the vectors. A common metric for this is the **cosine similarity** which measures the angle between two vectors, $\\mathbf{a}$ and $\\mathbf{b}$.\n",
    "\n",
    "$$\n",
    "\\cos \\theta = \\frac{\\mathbf{a}\\cdot\\mathbf{b}}{\\| \\mathbf{a} \\| \\, \\| \\mathbf{b} \\|}\n",
    "$$\n",
    "\n",
    "This is the dot product of $\\mathbf{a}$ and $\\mathbf{b}$, divided by the magnitudes of each vector. The cosine similarity can vary between -1 and 1, corresponding complete opposite to perfect similarity, respectively. To calculate it, you can use [the metric from scikit-learn](https://scikit-learn.org/stable/modules/generated/sklearn.metrics.pairwise.cosine_similarity.html) or write your own function."
   ]
  },
  {
   "cell_type": "code",
   "execution_count": 7,
   "id": "3628f46e",
   "metadata": {
    "execution": {
     "iopub.execute_input": "2021-09-13T20:12:32.571544Z",
     "iopub.status.busy": "2021-09-13T20:12:32.570527Z",
     "iopub.status.idle": "2021-09-13T20:12:32.572785Z",
     "shell.execute_reply": "2021-09-13T20:12:32.573738Z"
    },
    "papermill": {
     "duration": 0.030667,
     "end_time": "2021-09-13T20:12:32.574002",
     "exception": false,
     "start_time": "2021-09-13T20:12:32.543335",
     "status": "completed"
    },
    "tags": []
   },
   "outputs": [],
   "source": [
    "def cosine_similarity(a, b):\n",
    "    return a.dot(b)/np.sqrt(a.dot(a) * b.dot(b))"
   ]
  },
  {
   "cell_type": "code",
   "execution_count": 8,
   "id": "c2926f30",
   "metadata": {
    "execution": {
     "iopub.execute_input": "2021-09-13T20:12:32.611252Z",
     "iopub.status.busy": "2021-09-13T20:12:32.608144Z",
     "iopub.status.idle": "2021-09-13T20:12:32.640541Z",
     "shell.execute_reply": "2021-09-13T20:12:32.641109Z"
    },
    "papermill": {
     "duration": 0.047773,
     "end_time": "2021-09-13T20:12:32.641350",
     "exception": false,
     "start_time": "2021-09-13T20:12:32.593577",
     "status": "completed"
    },
    "tags": []
   },
   "outputs": [
    {
     "data": {
      "text/plain": [
       "0.7030031"
      ]
     },
     "execution_count": 8,
     "metadata": {},
     "output_type": "execute_result"
    }
   ],
   "source": [
    "a = nlp(\"REPLY NOW FOR FREE TEA\").vector\n",
    "b = nlp(\"According to legend, Emperor Shen Nung discovered tea when leaves from a wild tree blew into his pot of boiling water.\").vector\n",
    "cosine_similarity(a, b)"
   ]
  },
  {
   "cell_type": "markdown",
   "id": "5e590119",
   "metadata": {
    "papermill": {
     "duration": 0.01166,
     "end_time": "2021-09-13T20:12:32.665139",
     "exception": false,
     "start_time": "2021-09-13T20:12:32.653479",
     "status": "completed"
    },
    "tags": []
   },
   "source": [
    "# Your Turn\n",
    "Word embeddings are incredibly powerful. You know know enough to apply embeddings to **[improve your models and find similar documents](https://www.kaggle.com/kernels/fork/6061026)**."
   ]
  }
 ],
 "metadata": {
  "kernelspec": {
   "display_name": "Python 3",
   "language": "python",
   "name": "python3"
  },
  "language_info": {
   "codemirror_mode": {
    "name": "ipython",
    "version": 3
   },
   "file_extension": ".py",
   "mimetype": "text/x-python",
   "name": "python",
   "nbconvert_exporter": "python",
   "pygments_lexer": "ipython3",
   "version": "3.7.10"
  },
  "papermill": {
   "default_parameters": {},
   "duration": 88.807921,
   "end_time": "2021-09-13T20:12:35.641229",
   "environment_variables": {},
   "exception": null,
   "input_path": "__notebook__.ipynb",
   "output_path": "__notebook__.ipynb",
   "parameters": {},
   "start_time": "2021-09-13T20:11:06.833308",
   "version": "2.3.3"
  }
 },
 "nbformat": 4,
 "nbformat_minor": 5
}
