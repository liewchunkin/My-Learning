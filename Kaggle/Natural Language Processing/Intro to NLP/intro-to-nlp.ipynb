{
 "cells": [
  {
   "cell_type": "markdown",
   "id": "7862ffd3",
   "metadata": {
    "papermill": {
     "duration": 0.013478,
     "end_time": "2021-09-13T20:11:30.232034",
     "exception": false,
     "start_time": "2021-09-13T20:11:30.218556",
     "status": "completed"
    },
    "tags": []
   },
   "source": [
    "# Intro\n",
    "\n",
    "Data comes in many different forms: time stamps, sensor readings, images, categorical labels, and so much more. But text is still some of the most valuable data out there for those who know how to use it.  \n",
    "\n",
    "In this course about **Natural Language Processing (NLP)**, you will use the leading NLP library (spaCy) to take on some of the most important tasks in working with text. \n",
    "\n",
    "By the end, you will be able to use spaCy for:\n",
    "\n",
    "* Basic text processing and pattern matching\n",
    "* Building machine learning models with text\n",
    "* Representing text with word embeddings that numerically capture the meaning of words and documents"
   ]
  },
  {
   "cell_type": "markdown",
   "id": "a3de31a8",
   "metadata": {
    "papermill": {
     "duration": 0.015609,
     "end_time": "2021-09-13T20:11:30.260706",
     "exception": false,
     "start_time": "2021-09-13T20:11:30.245097",
     "status": "completed"
    },
    "tags": []
   },
   "source": [
    "To get the most out of this course, you'll need some experience with machine learning. If you don't have experience with scikit-learn, check out [Intro to Machine Learning](https://www.kaggle.com/learn/intro-to-machine-learning) and [Intermediate Machine Learning](https://www.kaggle.com/learn/intermediate-machine-learning) to learn the fundamentals."
   ]
  },
  {
   "cell_type": "markdown",
   "id": "7d366501",
   "metadata": {
    "papermill": {
     "duration": 0.011912,
     "end_time": "2021-09-13T20:11:30.285539",
     "exception": false,
     "start_time": "2021-09-13T20:11:30.273627",
     "status": "completed"
    },
    "tags": []
   },
   "source": [
    "## NLP with spaCy\n",
    "\n",
    "spaCy is the leading library for NLP, and it has quickly become one of the most popular Python frameworks. Most people find it intuitive, and it has excellent [documentation](https://spacy.io/usage).\n",
    "\n",
    "spaCy relies on **models** that are language-specific and come in different sizes. You can load a spaCy model with `spacy.load`. \n",
    "\n",
    "For example, here's how you would load the English language model."
   ]
  },
  {
   "cell_type": "code",
   "execution_count": 1,
   "id": "1e393e0f",
   "metadata": {
    "execution": {
     "iopub.execute_input": "2021-09-13T20:11:30.324803Z",
     "iopub.status.busy": "2021-09-13T20:11:30.324044Z",
     "iopub.status.idle": "2021-09-13T20:11:32.437323Z",
     "shell.execute_reply": "2021-09-13T20:11:32.436450Z"
    },
    "papermill": {
     "duration": 2.139396,
     "end_time": "2021-09-13T20:11:32.437524",
     "exception": false,
     "start_time": "2021-09-13T20:11:30.298128",
     "status": "completed"
    },
    "tags": []
   },
   "outputs": [],
   "source": [
    "import spacy\n",
    "nlp = spacy.load('en_core_web_sm')"
   ]
  },
  {
   "cell_type": "markdown",
   "id": "d70acfba",
   "metadata": {
    "papermill": {
     "duration": 0.013479,
     "end_time": "2021-09-13T20:11:32.465309",
     "exception": false,
     "start_time": "2021-09-13T20:11:32.451830",
     "status": "completed"
    },
    "tags": []
   },
   "source": [
    "With the model loaded, you can process text like this:"
   ]
  },
  {
   "cell_type": "code",
   "execution_count": 2,
   "id": "259e707b",
   "metadata": {
    "execution": {
     "iopub.execute_input": "2021-09-13T20:11:32.501367Z",
     "iopub.status.busy": "2021-09-13T20:11:32.500671Z",
     "iopub.status.idle": "2021-09-13T20:11:32.533153Z",
     "shell.execute_reply": "2021-09-13T20:11:32.532554Z"
    },
    "papermill": {
     "duration": 0.055592,
     "end_time": "2021-09-13T20:11:32.533297",
     "exception": false,
     "start_time": "2021-09-13T20:11:32.477705",
     "status": "completed"
    },
    "tags": []
   },
   "outputs": [],
   "source": [
    "doc = nlp(\"Tea is healthy and calming, don't you think?\")"
   ]
  },
  {
   "cell_type": "markdown",
   "id": "dbc87a45",
   "metadata": {
    "papermill": {
     "duration": 0.012393,
     "end_time": "2021-09-13T20:11:32.558338",
     "exception": false,
     "start_time": "2021-09-13T20:11:32.545945",
     "status": "completed"
    },
    "tags": []
   },
   "source": [
    "There's a lot you can do with the `doc` object you just created.\n",
    "\n",
    "# Tokenizing\n",
    "\n",
    "This returns a document object that contains **tokens**. A token is a unit of text in the document, such as individual words and punctuation. SpaCy splits contractions like \"don't\" into two tokens, \"do\" and \"n't\". You can see the tokens by iterating through the document."
   ]
  },
  {
   "cell_type": "code",
   "execution_count": 3,
   "id": "bd043837",
   "metadata": {
    "execution": {
     "iopub.execute_input": "2021-09-13T20:11:32.590497Z",
     "iopub.status.busy": "2021-09-13T20:11:32.589832Z",
     "iopub.status.idle": "2021-09-13T20:11:32.593712Z",
     "shell.execute_reply": "2021-09-13T20:11:32.593022Z"
    },
    "papermill": {
     "duration": 0.0213,
     "end_time": "2021-09-13T20:11:32.593877",
     "exception": false,
     "start_time": "2021-09-13T20:11:32.572577",
     "status": "completed"
    },
    "tags": []
   },
   "outputs": [
    {
     "name": "stdout",
     "output_type": "stream",
     "text": [
      "Tea\n",
      "is\n",
      "healthy\n",
      "and\n",
      "calming\n",
      ",\n",
      "do\n",
      "n't\n",
      "you\n",
      "think\n",
      "?\n"
     ]
    }
   ],
   "source": [
    "for token in doc:\n",
    "    print(token)"
   ]
  },
  {
   "cell_type": "markdown",
   "id": "5f53947f",
   "metadata": {
    "papermill": {
     "duration": 0.014619,
     "end_time": "2021-09-13T20:11:32.621994",
     "exception": false,
     "start_time": "2021-09-13T20:11:32.607375",
     "status": "completed"
    },
    "tags": []
   },
   "source": [
    "Iterating through a document gives you token objects. Each of these tokens comes with additional information. In most cases, the important ones are `token.lemma_` and `token.is_stop`.\n",
    "\n",
    "# Text preprocessing\n",
    "\n",
    "There are a few types of preprocessing to improve how we model with words. The first is \"lemmatizing.\"\n",
    "The \"lemma\" of a word is its base form.  For example, \"walk\" is the lemma of the word \"walking\". So, when you lemmatize the word walking, you would convert it to walk.\n",
    "\n",
    "It's also common to remove stopwords. Stopwords are words that occur frequently in the language and don't contain much information. English  stopwords include \"the\", \"is\", \"and\", \"but\", \"not\". \n",
    "\n",
    "With a spaCy token, `token.lemma_` returns the lemma, while `token.is_stop` returns a boolean `True` if the token is a stopword (and `False` otherwise)."
   ]
  },
  {
   "cell_type": "code",
   "execution_count": 4,
   "id": "7ecd0504",
   "metadata": {
    "execution": {
     "iopub.execute_input": "2021-09-13T20:11:32.656139Z",
     "iopub.status.busy": "2021-09-13T20:11:32.655015Z",
     "iopub.status.idle": "2021-09-13T20:11:32.659627Z",
     "shell.execute_reply": "2021-09-13T20:11:32.660138Z"
    },
    "papermill": {
     "duration": 0.024817,
     "end_time": "2021-09-13T20:11:32.660328",
     "exception": false,
     "start_time": "2021-09-13T20:11:32.635511",
     "status": "completed"
    },
    "tags": []
   },
   "outputs": [
    {
     "name": "stdout",
     "output_type": "stream",
     "text": [
      "Token \t\tLemma \t\tStopword\n",
      "----------------------------------------\n",
      "Tea\t\ttea\t\tFalse\n",
      "is\t\tbe\t\tTrue\n",
      "healthy\t\thealthy\t\tFalse\n",
      "and\t\tand\t\tTrue\n",
      "calming\t\tcalm\t\tFalse\n",
      ",\t\t,\t\tFalse\n",
      "do\t\tdo\t\tTrue\n",
      "n't\t\tnot\t\tTrue\n",
      "you\t\t-PRON-\t\tTrue\n",
      "think\t\tthink\t\tFalse\n",
      "?\t\t?\t\tFalse\n"
     ]
    }
   ],
   "source": [
    "print(f\"Token \\t\\tLemma \\t\\tStopword\".format('Token', 'Lemma', 'Stopword'))\n",
    "print(\"-\"*40)\n",
    "for token in doc:\n",
    "    print(f\"{str(token)}\\t\\t{token.lemma_}\\t\\t{token.is_stop}\")"
   ]
  },
  {
   "cell_type": "markdown",
   "id": "47c98097",
   "metadata": {
    "papermill": {
     "duration": 0.013856,
     "end_time": "2021-09-13T20:11:32.689782",
     "exception": false,
     "start_time": "2021-09-13T20:11:32.675926",
     "status": "completed"
    },
    "tags": []
   },
   "source": [
    "Why are lemmas and identifying stopwords important? Language data has a lot of noise mixed in with informative content. In the sentence above, the important words are tea, healthy and calming. Removing stop words might help the predictive model focus on relevant words. Lemmatizing similarly helps by combining multiple forms of the same word into one base form (\"calming\", \"calms\", \"calmed\" would all change to \"calm\").\n",
    "\n",
    "However, lemmatizing and dropping stopwords might result in your models performing worse. So you should treat this preprocessing as part of your hyperparameter optimization process."
   ]
  },
  {
   "cell_type": "markdown",
   "id": "dcd55a8a",
   "metadata": {
    "papermill": {
     "duration": 0.01444,
     "end_time": "2021-09-13T20:11:32.719414",
     "exception": false,
     "start_time": "2021-09-13T20:11:32.704974",
     "status": "completed"
    },
    "tags": []
   },
   "source": [
    "# Pattern Matching\n",
    "\n",
    "Another common NLP task is matching tokens or phrases within chunks of text or whole documents. You can do pattern matching with regular expressions, but spaCy's matching capabilities tend to be easier to use.\n",
    "\n",
    "To match individual tokens, you create a `Matcher`. When you want to match a list of terms, it's easier and more efficient to use `PhraseMatcher`. For example, if you want to find where different smartphone models show up in some text, you can create patterns for the model names of interest. First you create the `PhraseMatcher` itself."
   ]
  },
  {
   "cell_type": "code",
   "execution_count": 5,
   "id": "fd9e2167",
   "metadata": {
    "execution": {
     "iopub.execute_input": "2021-09-13T20:11:32.754138Z",
     "iopub.status.busy": "2021-09-13T20:11:32.753425Z",
     "iopub.status.idle": "2021-09-13T20:11:32.756413Z",
     "shell.execute_reply": "2021-09-13T20:11:32.756933Z"
    },
    "papermill": {
     "duration": 0.022385,
     "end_time": "2021-09-13T20:11:32.757122",
     "exception": false,
     "start_time": "2021-09-13T20:11:32.734737",
     "status": "completed"
    },
    "tags": []
   },
   "outputs": [],
   "source": [
    "from spacy.matcher import PhraseMatcher\n",
    "matcher = PhraseMatcher(nlp.vocab, attr='LOWER')"
   ]
  },
  {
   "cell_type": "markdown",
   "id": "1baac231",
   "metadata": {
    "papermill": {
     "duration": 0.013538,
     "end_time": "2021-09-13T20:11:32.787731",
     "exception": false,
     "start_time": "2021-09-13T20:11:32.774193",
     "status": "completed"
    },
    "tags": []
   },
   "source": [
    "The matcher is created using the vocabulary of your model. Here we're using the small English model you loaded earlier. Setting `attr='LOWER'` will match the phrases on lowercased text. This provides case insensitive matching.\n",
    "\n",
    "Next you create a list of terms to match in the text. The phrase matcher needs the patterns as document objects. The easiest way to get these is with a list comprehension using the `nlp` model."
   ]
  },
  {
   "cell_type": "code",
   "execution_count": 6,
   "id": "2fd47b82",
   "metadata": {
    "execution": {
     "iopub.execute_input": "2021-09-13T20:11:32.825612Z",
     "iopub.status.busy": "2021-09-13T20:11:32.824166Z",
     "iopub.status.idle": "2021-09-13T20:11:32.861265Z",
     "shell.execute_reply": "2021-09-13T20:11:32.860420Z"
    },
    "papermill": {
     "duration": 0.058776,
     "end_time": "2021-09-13T20:11:32.861487",
     "exception": false,
     "start_time": "2021-09-13T20:11:32.802711",
     "status": "completed"
    },
    "tags": []
   },
   "outputs": [],
   "source": [
    "terms = ['Galaxy Note', 'iPhone 11', 'iPhone XS', 'Google Pixel']\n",
    "patterns = [nlp(text) for text in terms]\n",
    "matcher.add(\"TerminologyList\", patterns)"
   ]
  },
  {
   "cell_type": "markdown",
   "id": "3ff8104a",
   "metadata": {
    "papermill": {
     "duration": 0.016032,
     "end_time": "2021-09-13T20:11:32.892002",
     "exception": false,
     "start_time": "2021-09-13T20:11:32.875970",
     "status": "completed"
    },
    "tags": []
   },
   "source": [
    "Then you create a document from the text to search and use the phrase matcher to find where the terms occur in the text."
   ]
  },
  {
   "cell_type": "code",
   "execution_count": 7,
   "id": "3baba708",
   "metadata": {
    "execution": {
     "iopub.execute_input": "2021-09-13T20:11:32.927973Z",
     "iopub.status.busy": "2021-09-13T20:11:32.927222Z",
     "iopub.status.idle": "2021-09-13T20:11:32.946716Z",
     "shell.execute_reply": "2021-09-13T20:11:32.946011Z"
    },
    "papermill": {
     "duration": 0.040875,
     "end_time": "2021-09-13T20:11:32.946866",
     "exception": false,
     "start_time": "2021-09-13T20:11:32.905991",
     "status": "completed"
    },
    "tags": []
   },
   "outputs": [
    {
     "name": "stdout",
     "output_type": "stream",
     "text": [
      "[(3766102292120407359, 17, 19), (3766102292120407359, 22, 24), (3766102292120407359, 30, 32), (3766102292120407359, 33, 35)]\n"
     ]
    }
   ],
   "source": [
    "# Borrowed from https://daringfireball.net/linked/2019/09/21/patel-11-pro\n",
    "text_doc = nlp(\"Glowing review overall, and some really interesting side-by-side \"\n",
    "               \"photography tests pitting the iPhone 11 Pro against the \"\n",
    "               \"Galaxy Note 10 Plus and last year’s iPhone XS and Google Pixel 3.\") \n",
    "matches = matcher(text_doc)\n",
    "print(matches)"
   ]
  },
  {
   "cell_type": "markdown",
   "id": "63c1c136",
   "metadata": {
    "papermill": {
     "duration": 0.014492,
     "end_time": "2021-09-13T20:11:32.976392",
     "exception": false,
     "start_time": "2021-09-13T20:11:32.961900",
     "status": "completed"
    },
    "tags": []
   },
   "source": [
    "The matches here are a tuple of the match id and the positions of the start and end of the phrase."
   ]
  },
  {
   "cell_type": "code",
   "execution_count": 8,
   "id": "a5d706ec",
   "metadata": {
    "execution": {
     "iopub.execute_input": "2021-09-13T20:11:33.013811Z",
     "iopub.status.busy": "2021-09-13T20:11:33.013073Z",
     "iopub.status.idle": "2021-09-13T20:11:33.015944Z",
     "shell.execute_reply": "2021-09-13T20:11:33.016504Z"
    },
    "papermill": {
     "duration": 0.024763,
     "end_time": "2021-09-13T20:11:33.016716",
     "exception": false,
     "start_time": "2021-09-13T20:11:32.991953",
     "status": "completed"
    },
    "tags": []
   },
   "outputs": [
    {
     "name": "stdout",
     "output_type": "stream",
     "text": [
      "TerminologyList iPhone 11\n"
     ]
    }
   ],
   "source": [
    "match_id, start, end = matches[0]\n",
    "print(nlp.vocab.strings[match_id], text_doc[start:end])"
   ]
  },
  {
   "cell_type": "markdown",
   "id": "40e31518",
   "metadata": {
    "papermill": {
     "duration": 0.017105,
     "end_time": "2021-09-13T20:11:33.048697",
     "exception": false,
     "start_time": "2021-09-13T20:11:33.031592",
     "status": "completed"
    },
    "tags": []
   },
   "source": [
    "# Your Turn\n",
    "Now that you've seen a few uses of SpaCy for NLP, it's your turn to try it to **[analyze Yelp reviews](https://www.kaggle.com/kernels/fork/6061023)**."
   ]
  }
 ],
 "metadata": {
  "kernelspec": {
   "display_name": "Python 3",
   "language": "python",
   "name": "python3"
  },
  "language_info": {
   "codemirror_mode": {
    "name": "ipython",
    "version": 3
   },
   "file_extension": ".py",
   "mimetype": "text/x-python",
   "name": "python",
   "nbconvert_exporter": "python",
   "pygments_lexer": "ipython3",
   "version": "3.7.10"
  },
  "papermill": {
   "default_parameters": {},
   "duration": 14.91493,
   "end_time": "2021-09-13T20:11:34.771603",
   "environment_variables": {},
   "exception": null,
   "input_path": "__notebook__.ipynb",
   "output_path": "__notebook__.ipynb",
   "parameters": {},
   "start_time": "2021-09-13T20:11:19.856673",
   "version": "2.3.3"
  }
 },
 "nbformat": 4,
 "nbformat_minor": 5
}
