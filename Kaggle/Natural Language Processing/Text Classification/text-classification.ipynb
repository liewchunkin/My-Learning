{
 "cells": [
  {
   "cell_type": "markdown",
   "id": "8e23af85",
   "metadata": {
    "papermill": {
     "duration": 0.01628,
     "end_time": "2021-09-13T20:11:19.142255",
     "exception": false,
     "start_time": "2021-09-13T20:11:19.125975",
     "status": "completed"
    },
    "tags": []
   },
   "source": [
    "# Text Classification with SpaCy\n",
    "\n",
    "A common task in NLP is **text classification**. This is \"classification\" in the conventional machine learning sense, and it is applied to text. Examples include spam detection, sentiment analysis, and tagging customer queries. \n",
    "\n",
    "In this tutorial, you'll learn text classification with spaCy. The classifier will detect spam messages, a common functionality in most email clients. Here is an overview of the data you'll use:"
   ]
  },
  {
   "cell_type": "code",
   "execution_count": 1,
   "id": "f84adb62",
   "metadata": {
    "execution": {
     "iopub.execute_input": "2021-09-13T20:11:19.181666Z",
     "iopub.status.busy": "2021-09-13T20:11:19.181052Z",
     "iopub.status.idle": "2021-09-13T20:11:19.229099Z",
     "shell.execute_reply": "2021-09-13T20:11:19.229584Z"
    },
    "papermill": {
     "duration": 0.072294,
     "end_time": "2021-09-13T20:11:19.229825",
     "exception": false,
     "start_time": "2021-09-13T20:11:19.157531",
     "status": "completed"
    },
    "tags": []
   },
   "outputs": [
    {
     "data": {
      "text/html": [
       "<div>\n",
       "<style scoped>\n",
       "    .dataframe tbody tr th:only-of-type {\n",
       "        vertical-align: middle;\n",
       "    }\n",
       "\n",
       "    .dataframe tbody tr th {\n",
       "        vertical-align: top;\n",
       "    }\n",
       "\n",
       "    .dataframe thead th {\n",
       "        text-align: right;\n",
       "    }\n",
       "</style>\n",
       "<table border=\"1\" class=\"dataframe\">\n",
       "  <thead>\n",
       "    <tr style=\"text-align: right;\">\n",
       "      <th></th>\n",
       "      <th>label</th>\n",
       "      <th>text</th>\n",
       "    </tr>\n",
       "  </thead>\n",
       "  <tbody>\n",
       "    <tr>\n",
       "      <th>0</th>\n",
       "      <td>ham</td>\n",
       "      <td>Go until jurong point, crazy.. Available only ...</td>\n",
       "    </tr>\n",
       "    <tr>\n",
       "      <th>1</th>\n",
       "      <td>ham</td>\n",
       "      <td>Ok lar... Joking wif u oni...</td>\n",
       "    </tr>\n",
       "    <tr>\n",
       "      <th>2</th>\n",
       "      <td>spam</td>\n",
       "      <td>Free entry in 2 a wkly comp to win FA Cup fina...</td>\n",
       "    </tr>\n",
       "    <tr>\n",
       "      <th>3</th>\n",
       "      <td>ham</td>\n",
       "      <td>U dun say so early hor... U c already then say...</td>\n",
       "    </tr>\n",
       "    <tr>\n",
       "      <th>4</th>\n",
       "      <td>ham</td>\n",
       "      <td>Nah I don't think he goes to usf, he lives aro...</td>\n",
       "    </tr>\n",
       "    <tr>\n",
       "      <th>5</th>\n",
       "      <td>spam</td>\n",
       "      <td>FreeMsg Hey there darling it's been 3 week's n...</td>\n",
       "    </tr>\n",
       "    <tr>\n",
       "      <th>6</th>\n",
       "      <td>ham</td>\n",
       "      <td>Even my brother is not like to speak with me. ...</td>\n",
       "    </tr>\n",
       "    <tr>\n",
       "      <th>7</th>\n",
       "      <td>ham</td>\n",
       "      <td>As per your request 'Melle Melle (Oru Minnamin...</td>\n",
       "    </tr>\n",
       "    <tr>\n",
       "      <th>8</th>\n",
       "      <td>spam</td>\n",
       "      <td>WINNER!! As a valued network customer you have...</td>\n",
       "    </tr>\n",
       "    <tr>\n",
       "      <th>9</th>\n",
       "      <td>spam</td>\n",
       "      <td>Had your mobile 11 months or more? U R entitle...</td>\n",
       "    </tr>\n",
       "  </tbody>\n",
       "</table>\n",
       "</div>"
      ],
      "text/plain": [
       "  label                                               text\n",
       "0   ham  Go until jurong point, crazy.. Available only ...\n",
       "1   ham                      Ok lar... Joking wif u oni...\n",
       "2  spam  Free entry in 2 a wkly comp to win FA Cup fina...\n",
       "3   ham  U dun say so early hor... U c already then say...\n",
       "4   ham  Nah I don't think he goes to usf, he lives aro...\n",
       "5  spam  FreeMsg Hey there darling it's been 3 week's n...\n",
       "6   ham  Even my brother is not like to speak with me. ...\n",
       "7   ham  As per your request 'Melle Melle (Oru Minnamin...\n",
       "8  spam  WINNER!! As a valued network customer you have...\n",
       "9  spam  Had your mobile 11 months or more? U R entitle..."
      ]
     },
     "execution_count": 1,
     "metadata": {},
     "output_type": "execute_result"
    }
   ],
   "source": [
    "import pandas as pd\n",
    "\n",
    "# Loading the spam data\n",
    "# ham is the label for non-spam messages\n",
    "spam = pd.read_csv('../input/nlp-course/spam.csv')\n",
    "spam.head(10)"
   ]
  },
  {
   "cell_type": "markdown",
   "id": "703bbb11",
   "metadata": {
    "papermill": {
     "duration": 0.015753,
     "end_time": "2021-09-13T20:11:19.261978",
     "exception": false,
     "start_time": "2021-09-13T20:11:19.246225",
     "status": "completed"
    },
    "tags": []
   },
   "source": [
    "# Bag of Words\n",
    "Machine learning models don't learn from raw text data. Instead, you need to convert the text to something numeric.\n",
    "\n",
    "The simplest common representation is a variation of one-hot encoding. You represent each document as a vector of term frequencies for each term in the vocabulary. The vocabulary is built from all the tokens (terms) in the corpus (the collection of documents). \n",
    "\n",
    "As an example, take the sentences \"Tea is life. Tea is love.\" and \"Tea is healthy, calming, and delicious.\" as our corpus. The vocabulary then is `{\"tea\", \"is\", \"life\", \"love\", \"healthy\", \"calming\", \"and\", \"delicious\"}` (ignoring punctuation).\n",
    "\n",
    "For each document, count up how many times a term occurs, and place that count in the appropriate element of a vector. The first sentence has \"tea\" twice and that is the first position in our vocabulary, so we put the number 2 in the first element of the vector. Our sentences as vectors then look like \n",
    "\n",
    "$$\n",
    "\\begin{align}\n",
    "v_1 &= \\left[\\begin{matrix} 2 & 2 & 1 & 1 & 0 & 0 & 0 & 0 \\end{matrix}\\right] \\\\\n",
    "v_2 &= \\left[\\begin{matrix} 1 & 1 & 0 & 0 & 1 & 1 & 1 & 1 \\end{matrix}\\right]\n",
    "\\end{align}\n",
    "$$\n",
    "\n",
    "This is called the **bag of words** representation. You can see that documents with similar terms will have similar vectors. Vocabularies frequently have tens of thousands of terms, so these vectors can be very large.\n",
    "\n",
    "Another common representation is **TF-IDF (Term Frequency - Inverse Document Frequency)**. TF-IDF is similar to bag of words except that each term count is scaled by the term's frequency in the corpus. Using TF-IDF can potentially improve your models. You won't need it here. Feel free to look it up though!"
   ]
  },
  {
   "cell_type": "markdown",
   "id": "0ccaaf90",
   "metadata": {
    "papermill": {
     "duration": 0.015543,
     "end_time": "2021-09-13T20:11:19.293505",
     "exception": false,
     "start_time": "2021-09-13T20:11:19.277962",
     "status": "completed"
    },
    "tags": []
   },
   "source": [
    "# Building a Bag of Words model\n",
    "\n",
    "Once you have your documents in a bag of words representation, you can use those vectors as input to any machine learning model. spaCy handles the bag of words conversion and building a simple linear model for you with the `TextCategorizer` class.\n",
    "\n",
    "The TextCategorizer is a spaCy **pipe**. Pipes are classes for processing and transforming tokens. When you create a spaCy model with `nlp = spacy.load('en_core_web_sm')`, there are default pipes that perform part of speech tagging, entity recognition, and other transformations. When you run text through a model `doc = nlp(\"Some text here\")`, the output of the pipes are attached to the tokens in the `doc` object. The lemmas for `token.lemma_` come from one of these pipes.\n",
    "\n",
    "You can remove or add pipes to models. What we'll do here is create an empty model without any pipes (other than a tokenizer, since all models always have a tokenizer). Then, we'll create a TextCategorizer pipe and add it to the empty model."
   ]
  },
  {
   "cell_type": "code",
   "execution_count": 2,
   "id": "5d669cda",
   "metadata": {
    "execution": {
     "iopub.execute_input": "2021-09-13T20:11:19.329509Z",
     "iopub.status.busy": "2021-09-13T20:11:19.328794Z",
     "iopub.status.idle": "2021-09-13T20:11:20.398144Z",
     "shell.execute_reply": "2021-09-13T20:11:20.398692Z"
    },
    "papermill": {
     "duration": 1.089683,
     "end_time": "2021-09-13T20:11:20.398852",
     "exception": false,
     "start_time": "2021-09-13T20:11:19.309169",
     "status": "completed"
    },
    "tags": []
   },
   "outputs": [],
   "source": [
    "import spacy\n",
    "\n",
    "# Create an empty model\n",
    "nlp = spacy.blank(\"en\")\n",
    "\n",
    "# Create the TextCategorizer with exclusive classes and \"bow\" architecture\n",
    "textcat = nlp.create_pipe(\n",
    "              \"textcat\",\n",
    "              config={\n",
    "                \"exclusive_classes\": True,\n",
    "                \"architecture\": \"bow\"})\n",
    "\n",
    "# Add the TextCategorizer to the empty model\n",
    "nlp.add_pipe(textcat)"
   ]
  },
  {
   "cell_type": "markdown",
   "id": "09657479",
   "metadata": {
    "papermill": {
     "duration": 0.015871,
     "end_time": "2021-09-13T20:11:20.431212",
     "exception": false,
     "start_time": "2021-09-13T20:11:20.415341",
     "status": "completed"
    },
    "tags": []
   },
   "source": [
    "Since the classes are either ham or spam, we set `\"exclusive_classes\"` to `True`. We've also configured it with the bag of words (`\"bow\"`) architecture. spaCy provides a convolutional neural network architecture as well, but it's more complex than you need for now.\n",
    "\n",
    "Next we'll add the labels to the model. Here \"ham\" are for the real messages, \"spam\" are spam messages."
   ]
  },
  {
   "cell_type": "code",
   "execution_count": 3,
   "id": "9cc18a1b",
   "metadata": {
    "execution": {
     "iopub.execute_input": "2021-09-13T20:11:20.469863Z",
     "iopub.status.busy": "2021-09-13T20:11:20.466094Z",
     "iopub.status.idle": "2021-09-13T20:11:20.473262Z",
     "shell.execute_reply": "2021-09-13T20:11:20.472757Z"
    },
    "papermill": {
     "duration": 0.025935,
     "end_time": "2021-09-13T20:11:20.473377",
     "exception": false,
     "start_time": "2021-09-13T20:11:20.447442",
     "status": "completed"
    },
    "tags": []
   },
   "outputs": [
    {
     "data": {
      "text/plain": [
       "1"
      ]
     },
     "execution_count": 3,
     "metadata": {},
     "output_type": "execute_result"
    }
   ],
   "source": [
    "# Add labels to text classifier\n",
    "textcat.add_label(\"ham\")\n",
    "textcat.add_label(\"spam\")"
   ]
  },
  {
   "cell_type": "markdown",
   "id": "dacb67ab",
   "metadata": {
    "papermill": {
     "duration": 0.017664,
     "end_time": "2021-09-13T20:11:20.508939",
     "exception": false,
     "start_time": "2021-09-13T20:11:20.491275",
     "status": "completed"
    },
    "tags": []
   },
   "source": [
    "# Training a Text Categorizer Model\n",
    "\n",
    "Next, you'll convert the labels in the data to the form TextCategorizer requires. For each document, you'll create a dictionary of boolean values for each class. \n",
    "\n",
    "For example, if a text is \"ham\", we need a dictionary `{'ham': True, 'spam': False}`. The model is looking for these labels inside another dictionary with the key `'cats'`."
   ]
  },
  {
   "cell_type": "code",
   "execution_count": 4,
   "id": "5f32e82b",
   "metadata": {
    "execution": {
     "iopub.execute_input": "2021-09-13T20:11:20.559576Z",
     "iopub.status.busy": "2021-09-13T20:11:20.558669Z",
     "iopub.status.idle": "2021-09-13T20:11:20.561881Z",
     "shell.execute_reply": "2021-09-13T20:11:20.561334Z"
    },
    "papermill": {
     "duration": 0.034545,
     "end_time": "2021-09-13T20:11:20.562004",
     "exception": false,
     "start_time": "2021-09-13T20:11:20.527459",
     "status": "completed"
    },
    "tags": []
   },
   "outputs": [],
   "source": [
    "train_texts = spam['text'].values\n",
    "train_labels = [{'cats': {'ham': label == 'ham',\n",
    "                          'spam': label == 'spam'}} \n",
    "                for label in spam['label']]"
   ]
  },
  {
   "cell_type": "markdown",
   "id": "f81d0c2d",
   "metadata": {
    "papermill": {
     "duration": 0.018044,
     "end_time": "2021-09-13T20:11:20.598510",
     "exception": false,
     "start_time": "2021-09-13T20:11:20.580466",
     "status": "completed"
    },
    "tags": []
   },
   "source": [
    "Then we combine the texts and labels into a single list."
   ]
  },
  {
   "cell_type": "code",
   "execution_count": 5,
   "id": "cfa9386b",
   "metadata": {
    "execution": {
     "iopub.execute_input": "2021-09-13T20:11:20.636183Z",
     "iopub.status.busy": "2021-09-13T20:11:20.635567Z",
     "iopub.status.idle": "2021-09-13T20:11:20.641924Z",
     "shell.execute_reply": "2021-09-13T20:11:20.641424Z"
    },
    "papermill": {
     "duration": 0.026433,
     "end_time": "2021-09-13T20:11:20.642045",
     "exception": false,
     "start_time": "2021-09-13T20:11:20.615612",
     "status": "completed"
    },
    "tags": []
   },
   "outputs": [
    {
     "data": {
      "text/plain": [
       "[('Go until jurong point, crazy.. Available only in bugis n great world la e buffet... Cine there got amore wat...',\n",
       "  {'cats': {'ham': True, 'spam': False}}),\n",
       " ('Ok lar... Joking wif u oni...', {'cats': {'ham': True, 'spam': False}}),\n",
       " (\"Free entry in 2 a wkly comp to win FA Cup final tkts 21st May 2005. Text FA to 87121 to receive entry question(std txt rate)T&C's apply 08452810075over18's\",\n",
       "  {'cats': {'ham': False, 'spam': True}})]"
      ]
     },
     "execution_count": 5,
     "metadata": {},
     "output_type": "execute_result"
    }
   ],
   "source": [
    "train_data = list(zip(train_texts, train_labels))\n",
    "train_data[:3]"
   ]
  },
  {
   "cell_type": "markdown",
   "id": "e4a0ebc0",
   "metadata": {
    "papermill": {
     "duration": 0.017429,
     "end_time": "2021-09-13T20:11:20.677280",
     "exception": false,
     "start_time": "2021-09-13T20:11:20.659851",
     "status": "completed"
    },
    "tags": []
   },
   "source": [
    "Now you are ready to train the model. First, create an `optimizer` using `nlp.begin_training()`. spaCy uses this optimizer to update the model. In general it's more efficient to train models in small batches. spaCy provides the `minibatch` function that returns a generator yielding minibatches for training. Finally, the minibatches are split into texts and labels, then used with `nlp.update` to update the model's parameters."
   ]
  },
  {
   "cell_type": "code",
   "execution_count": 6,
   "id": "3be8ea9b",
   "metadata": {
    "execution": {
     "iopub.execute_input": "2021-09-13T20:11:20.720659Z",
     "iopub.status.busy": "2021-09-13T20:11:20.720054Z",
     "iopub.status.idle": "2021-09-13T20:11:26.259569Z",
     "shell.execute_reply": "2021-09-13T20:11:26.258924Z"
    },
    "papermill": {
     "duration": 5.56477,
     "end_time": "2021-09-13T20:11:26.259693",
     "exception": false,
     "start_time": "2021-09-13T20:11:20.694923",
     "status": "completed"
    },
    "tags": []
   },
   "outputs": [],
   "source": [
    "from spacy.util import minibatch\n",
    "\n",
    "spacy.util.fix_random_seed(1)\n",
    "optimizer = nlp.begin_training()\n",
    "\n",
    "# Create the batch generator with batch size = 8\n",
    "batches = minibatch(train_data, size=8)\n",
    "# Iterate through minibatches\n",
    "for batch in batches:\n",
    "    # Each batch is a list of (text, label) but we need to\n",
    "    # send separate lists for texts and labels to update().\n",
    "    # This is a quick way to split a list of tuples into lists\n",
    "    texts, labels = zip(*batch)\n",
    "    nlp.update(texts, labels, sgd=optimizer)"
   ]
  },
  {
   "cell_type": "markdown",
   "id": "cd87a4a1",
   "metadata": {
    "papermill": {
     "duration": 0.017385,
     "end_time": "2021-09-13T20:11:26.295033",
     "exception": false,
     "start_time": "2021-09-13T20:11:26.277648",
     "status": "completed"
    },
    "tags": []
   },
   "source": [
    "This is just one training loop (or epoch) through the data. The model will typically need multiple epochs. Use another loop for more epochs, and optionally re-shuffle the training data at the begining of each loop. "
   ]
  },
  {
   "cell_type": "code",
   "execution_count": 7,
   "id": "d85d35e0",
   "metadata": {
    "execution": {
     "iopub.execute_input": "2021-09-13T20:11:26.332862Z",
     "iopub.status.busy": "2021-09-13T20:11:26.332295Z",
     "iopub.status.idle": "2021-09-13T20:12:07.632951Z",
     "shell.execute_reply": "2021-09-13T20:12:07.633449Z"
    },
    "papermill": {
     "duration": 41.321089,
     "end_time": "2021-09-13T20:12:07.633594",
     "exception": false,
     "start_time": "2021-09-13T20:11:26.312505",
     "status": "completed"
    },
    "tags": []
   },
   "outputs": [
    {
     "name": "stdout",
     "output_type": "stream",
     "text": [
      "{'textcat': 0.43189741921099767}\n",
      "{'textcat': 0.6474976215331196}\n",
      "{'textcat': 0.7842154536487618}\n",
      "{'textcat': 0.8716683716818165}\n",
      "{'textcat': 0.9280939335008995}\n",
      "{'textcat': 0.9655779922872296}\n",
      "{'textcat': 0.9939651840090362}\n",
      "{'textcat': 1.0127976631523663}\n",
      "{'textcat': 1.0275637812859075}\n",
      "{'textcat': 1.0378531470013608}\n"
     ]
    }
   ],
   "source": [
    "import random\n",
    "\n",
    "random.seed(1)\n",
    "spacy.util.fix_random_seed(1)\n",
    "optimizer = nlp.begin_training()\n",
    "\n",
    "losses = {}\n",
    "for epoch in range(10):\n",
    "    random.shuffle(train_data)\n",
    "    # Create the batch generator with batch size = 8\n",
    "    batches = minibatch(train_data, size=8)\n",
    "    # Iterate through minibatches\n",
    "    for batch in batches:\n",
    "        # Each batch is a list of (text, label) but we need to\n",
    "        # send separate lists for texts and labels to update().\n",
    "        # This is a quick way to split a list of tuples into lists\n",
    "        texts, labels = zip(*batch)\n",
    "        nlp.update(texts, labels, sgd=optimizer, losses=losses)\n",
    "    print(losses)"
   ]
  },
  {
   "cell_type": "markdown",
   "id": "fb77ff31",
   "metadata": {
    "papermill": {
     "duration": 0.021327,
     "end_time": "2021-09-13T20:12:07.676487",
     "exception": false,
     "start_time": "2021-09-13T20:12:07.655160",
     "status": "completed"
    },
    "tags": []
   },
   "source": [
    "# Making Predictions"
   ]
  },
  {
   "cell_type": "markdown",
   "id": "85c1b395",
   "metadata": {
    "papermill": {
     "duration": 0.021112,
     "end_time": "2021-09-13T20:12:07.719098",
     "exception": false,
     "start_time": "2021-09-13T20:12:07.697986",
     "status": "completed"
    },
    "tags": []
   },
   "source": [
    "Now that you have a trained model, you can make predictions with the `predict()` method. The input text needs to be tokenized with `nlp.tokenizer`. Then you pass the tokens to the predict method which returns scores. The scores are the probability the input text belongs to the classes."
   ]
  },
  {
   "cell_type": "code",
   "execution_count": 8,
   "id": "37d49831",
   "metadata": {
    "execution": {
     "iopub.execute_input": "2021-09-13T20:12:07.767967Z",
     "iopub.status.busy": "2021-09-13T20:12:07.765870Z",
     "iopub.status.idle": "2021-09-13T20:12:07.770618Z",
     "shell.execute_reply": "2021-09-13T20:12:07.770014Z"
    },
    "papermill": {
     "duration": 0.030718,
     "end_time": "2021-09-13T20:12:07.770728",
     "exception": false,
     "start_time": "2021-09-13T20:12:07.740010",
     "status": "completed"
    },
    "tags": []
   },
   "outputs": [
    {
     "name": "stdout",
     "output_type": "stream",
     "text": [
      "[[9.9994397e-01 5.6023764e-05]\n",
      " [1.1491306e-02 9.8850864e-01]]\n"
     ]
    }
   ],
   "source": [
    "texts = [\"Are you ready for the tea party????? It's gonna be wild\",\n",
    "         \"URGENT Reply to this message for GUARANTEED FREE TEA\" ]\n",
    "docs = [nlp.tokenizer(text) for text in texts]\n",
    "    \n",
    "# Use textcat to get the scores for each doc\n",
    "textcat = nlp.get_pipe('textcat')\n",
    "scores, _ = textcat.predict(docs)\n",
    "\n",
    "print(scores)"
   ]
  },
  {
   "cell_type": "markdown",
   "id": "254fd306",
   "metadata": {
    "papermill": {
     "duration": 0.022149,
     "end_time": "2021-09-13T20:12:07.814896",
     "exception": false,
     "start_time": "2021-09-13T20:12:07.792747",
     "status": "completed"
    },
    "tags": []
   },
   "source": [
    "The scores are used to predict a single class or label by choosing the label with the highest probability. You get the index of the highest probability with `scores.argmax`, then use the index to get the label string from `textcat.labels`."
   ]
  },
  {
   "cell_type": "code",
   "execution_count": 9,
   "id": "385de6c0",
   "metadata": {
    "execution": {
     "iopub.execute_input": "2021-09-13T20:12:07.864236Z",
     "iopub.status.busy": "2021-09-13T20:12:07.863574Z",
     "iopub.status.idle": "2021-09-13T20:12:07.866597Z",
     "shell.execute_reply": "2021-09-13T20:12:07.866040Z"
    },
    "papermill": {
     "duration": 0.029881,
     "end_time": "2021-09-13T20:12:07.866703",
     "exception": false,
     "start_time": "2021-09-13T20:12:07.836822",
     "status": "completed"
    },
    "tags": []
   },
   "outputs": [
    {
     "name": "stdout",
     "output_type": "stream",
     "text": [
      "['ham', 'spam']\n"
     ]
    }
   ],
   "source": [
    "# From the scores, find the label with the highest score/probability\n",
    "predicted_labels = scores.argmax(axis=1)\n",
    "print([textcat.labels[label] for label in predicted_labels])"
   ]
  },
  {
   "cell_type": "markdown",
   "id": "bc9368ac",
   "metadata": {
    "papermill": {
     "duration": 0.022358,
     "end_time": "2021-09-13T20:12:07.911484",
     "exception": false,
     "start_time": "2021-09-13T20:12:07.889126",
     "status": "completed"
    },
    "tags": []
   },
   "source": [
    "Evaluating the model is straightforward once you have the predictions. To measure the accuracy, calculate how many correct predictions are made on some test data, divided by the total number of predictions."
   ]
  },
  {
   "cell_type": "markdown",
   "id": "57589992",
   "metadata": {
    "papermill": {
     "duration": 0.022589,
     "end_time": "2021-09-13T20:12:07.956201",
     "exception": false,
     "start_time": "2021-09-13T20:12:07.933612",
     "status": "completed"
    },
    "tags": []
   },
   "source": [
    "# Your Turn\n",
    "Try it yourself as you **[predict the sentiment of Yelp reviews](https://www.kaggle.com/kernels/fork/6061027)**."
   ]
  }
 ],
 "metadata": {
  "kernelspec": {
   "display_name": "Python 3",
   "language": "python",
   "name": "python3"
  },
  "language_info": {
   "codemirror_mode": {
    "name": "ipython",
    "version": 3
   },
   "file_extension": ".py",
   "mimetype": "text/x-python",
   "name": "python",
   "nbconvert_exporter": "python",
   "pygments_lexer": "ipython3",
   "version": "3.7.10"
  },
  "papermill": {
   "default_parameters": {},
   "duration": 57.216091,
   "end_time": "2021-09-13T20:12:08.485422",
   "environment_variables": {},
   "exception": null,
   "input_path": "__notebook__.ipynb",
   "output_path": "__notebook__.ipynb",
   "parameters": {},
   "start_time": "2021-09-13T20:11:11.269331",
   "version": "2.3.3"
  }
 },
 "nbformat": 4,
 "nbformat_minor": 5
}
