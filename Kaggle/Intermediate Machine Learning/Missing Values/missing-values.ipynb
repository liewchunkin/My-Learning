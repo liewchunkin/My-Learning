{
 "cells": [
  {
   "cell_type": "markdown",
   "id": "945611d4",
   "metadata": {
    "papermill": {
     "duration": 0.010345,
     "end_time": "2021-09-13T20:09:14.308287",
     "exception": false,
     "start_time": "2021-09-13T20:09:14.297942",
     "status": "completed"
    },
    "tags": []
   },
   "source": [
    "In this tutorial, you will learn three approaches to **dealing with missing values**. Then you'll compare the effectiveness of these approaches on a real-world dataset.\n",
    "\n",
    "# Introduction\n",
    "\n",
    "There are many ways data can end up with missing values. For example,\n",
    "- A 2 bedroom house won't include a value for the size of a third bedroom.\n",
    "- A survey respondent may choose not to share his income.\n",
    "\n",
    "Most machine learning libraries (including scikit-learn) give an error if you try to build a model using data with missing values. So you'll need to choose one of the strategies below."
   ]
  },
  {
   "cell_type": "markdown",
   "id": "790e8fde",
   "metadata": {
    "papermill": {
     "duration": 0.008646,
     "end_time": "2021-09-13T20:09:14.326218",
     "exception": false,
     "start_time": "2021-09-13T20:09:14.317572",
     "status": "completed"
    },
    "tags": []
   },
   "source": [
    "# Three Approaches\n",
    "\n",
    "\n",
    "### 1) A Simple Option: Drop Columns with Missing Values\n",
    "\n",
    "The simplest option is to drop columns with missing values. \n",
    "\n",
    "![tut2_approach1](https://i.imgur.com/Sax80za.png)\n",
    "\n",
    "Unless most values in the dropped columns are missing, the model loses access to a lot of (potentially useful!) information with this approach.  As an extreme example, consider a dataset with 10,000 rows, where one important column is missing a single entry. This approach would drop the column entirely!\n",
    "\n",
    "### 2) A Better Option: Imputation\n",
    "\n",
    "**Imputation** fills in the missing values with some number.  For instance, we can fill in the mean value along each column. \n",
    "\n",
    "![tut2_approach2](https://i.imgur.com/4BpnlPA.png)\n",
    "\n",
    "The imputed value won't be exactly right in most cases, but it usually leads to more accurate models than you would get from dropping the column entirely.\n",
    "\n",
    "### 3) An Extension To Imputation\n",
    "\n",
    "Imputation is the standard approach, and it usually works well. However, imputed values may be systematically above or below their actual values (which weren't collected in the dataset). Or rows with missing values may be unique in some other way. In that case, your model would make better predictions by considering which values were originally missing.  \n",
    "\n",
    "![tut3_approach3](https://i.imgur.com/UWOyg4a.png)\n",
    "\n",
    "In this approach, we impute the missing values, as before.  And, additionally, for each column with missing entries in the original dataset, we add a new column that shows the location of the imputed entries.\n",
    "\n",
    "In some cases, this will meaningfully improve results. In other cases, it doesn't help at all.\n",
    "\n",
    "# Example \n",
    "\n",
    "In the example, we will work with the [Melbourne Housing dataset](https://www.kaggle.com/dansbecker/melbourne-housing-snapshot/home).  Our model will use information such as the number of rooms and land size to predict home price.\n",
    "\n",
    "We won't focus on the data loading step. Instead, you can imagine you are at a point where you already have the training and validation data in `X_train`, `X_valid`, `y_train`, and `y_valid`. "
   ]
  },
  {
   "cell_type": "code",
   "execution_count": 1,
   "id": "b00f90b5",
   "metadata": {
    "_kg_hide-input": true,
    "_kg_hide-output": true,
    "execution": {
     "iopub.execute_input": "2021-09-13T20:09:14.357780Z",
     "iopub.status.busy": "2021-09-13T20:09:14.356746Z",
     "iopub.status.idle": "2021-09-13T20:09:15.293312Z",
     "shell.execute_reply": "2021-09-13T20:09:15.294015Z"
    },
    "papermill": {
     "duration": 0.959183,
     "end_time": "2021-09-13T20:09:15.294304",
     "exception": false,
     "start_time": "2021-09-13T20:09:14.335121",
     "status": "completed"
    },
    "tags": []
   },
   "outputs": [],
   "source": [
    "\n",
    "import pandas as pd\n",
    "from sklearn.model_selection import train_test_split\n",
    "\n",
    "# Load the data\n",
    "data = pd.read_csv('../input/melbourne-housing-snapshot/melb_data.csv')\n",
    "\n",
    "# Select target\n",
    "y = data.Price\n",
    "\n",
    "# To keep things simple, we'll use only numerical predictors\n",
    "melb_predictors = data.drop(['Price'], axis=1)\n",
    "X = melb_predictors.select_dtypes(exclude=['object'])\n",
    "\n",
    "# Divide data into training and validation subsets\n",
    "X_train, X_valid, y_train, y_valid = train_test_split(X, y, train_size=0.8, test_size=0.2,\n",
    "                                                      random_state=0)"
   ]
  },
  {
   "cell_type": "markdown",
   "id": "d522b75e",
   "metadata": {
    "papermill": {
     "duration": 0.009062,
     "end_time": "2021-09-13T20:09:15.312923",
     "exception": false,
     "start_time": "2021-09-13T20:09:15.303861",
     "status": "completed"
    },
    "tags": []
   },
   "source": [
    "### Define Function to Measure Quality of Each Approach\n",
    "\n",
    "We define a function `score_dataset()` to compare different approaches to dealing with missing values. This function reports the [mean absolute error](https://en.wikipedia.org/wiki/Mean_absolute_error) (MAE) from a random forest model."
   ]
  },
  {
   "cell_type": "code",
   "execution_count": 2,
   "id": "c8cf1046",
   "metadata": {
    "_kg_hide-input": true,
    "_kg_hide-output": true,
    "execution": {
     "iopub.execute_input": "2021-09-13T20:09:15.334857Z",
     "iopub.status.busy": "2021-09-13T20:09:15.333925Z",
     "iopub.status.idle": "2021-09-13T20:09:15.506174Z",
     "shell.execute_reply": "2021-09-13T20:09:15.506696Z"
    },
    "papermill": {
     "duration": 0.184805,
     "end_time": "2021-09-13T20:09:15.506939",
     "exception": false,
     "start_time": "2021-09-13T20:09:15.322134",
     "status": "completed"
    },
    "tags": []
   },
   "outputs": [],
   "source": [
    "\n",
    "from sklearn.ensemble import RandomForestRegressor\n",
    "from sklearn.metrics import mean_absolute_error\n",
    "\n",
    "# Function for comparing different approaches\n",
    "def score_dataset(X_train, X_valid, y_train, y_valid):\n",
    "    model = RandomForestRegressor(n_estimators=10, random_state=0)\n",
    "    model.fit(X_train, y_train)\n",
    "    preds = model.predict(X_valid)\n",
    "    return mean_absolute_error(y_valid, preds)"
   ]
  },
  {
   "cell_type": "markdown",
   "id": "688012ad",
   "metadata": {
    "papermill": {
     "duration": 0.009146,
     "end_time": "2021-09-13T20:09:15.525813",
     "exception": false,
     "start_time": "2021-09-13T20:09:15.516667",
     "status": "completed"
    },
    "tags": []
   },
   "source": [
    "### Score from Approach 1 (Drop Columns with Missing Values)\n",
    "\n",
    "Since we are working with both training and validation sets, we are careful to drop the same columns in both DataFrames.  "
   ]
  },
  {
   "cell_type": "code",
   "execution_count": 3,
   "id": "f6b19837",
   "metadata": {
    "execution": {
     "iopub.execute_input": "2021-09-13T20:09:15.548145Z",
     "iopub.status.busy": "2021-09-13T20:09:15.547202Z",
     "iopub.status.idle": "2021-09-13T20:09:16.094309Z",
     "shell.execute_reply": "2021-09-13T20:09:16.093770Z"
    },
    "papermill": {
     "duration": 0.559209,
     "end_time": "2021-09-13T20:09:16.094452",
     "exception": false,
     "start_time": "2021-09-13T20:09:15.535243",
     "status": "completed"
    },
    "tags": []
   },
   "outputs": [
    {
     "name": "stdout",
     "output_type": "stream",
     "text": [
      "MAE from Approach 1 (Drop columns with missing values):\n",
      "183550.22137772635\n"
     ]
    }
   ],
   "source": [
    "# Get names of columns with missing values\n",
    "cols_with_missing = [col for col in X_train.columns\n",
    "                     if X_train[col].isnull().any()]\n",
    "\n",
    "# Drop columns in training and validation data\n",
    "reduced_X_train = X_train.drop(cols_with_missing, axis=1)\n",
    "reduced_X_valid = X_valid.drop(cols_with_missing, axis=1)\n",
    "\n",
    "print(\"MAE from Approach 1 (Drop columns with missing values):\")\n",
    "print(score_dataset(reduced_X_train, reduced_X_valid, y_train, y_valid))"
   ]
  },
  {
   "cell_type": "markdown",
   "id": "ca93e3d6",
   "metadata": {
    "papermill": {
     "duration": 0.009812,
     "end_time": "2021-09-13T20:09:16.114990",
     "exception": false,
     "start_time": "2021-09-13T20:09:16.105178",
     "status": "completed"
    },
    "tags": []
   },
   "source": [
    "### Score from Approach 2 (Imputation)\n",
    "\n",
    "Next, we use [`SimpleImputer`](https://scikit-learn.org/stable/modules/generated/sklearn.impute.SimpleImputer.html) to replace missing values with the mean value along each column.\n",
    "\n",
    "Although it's simple, filling in the mean value generally performs quite well (but this varies by dataset).  While statisticians have experimented with more complex ways to determine imputed values (such as **regression imputation**, for instance), the complex strategies typically give no additional benefit once you plug the results into sophisticated machine learning models."
   ]
  },
  {
   "cell_type": "code",
   "execution_count": 4,
   "id": "f5013df3",
   "metadata": {
    "execution": {
     "iopub.execute_input": "2021-09-13T20:09:16.141623Z",
     "iopub.status.busy": "2021-09-13T20:09:16.140941Z",
     "iopub.status.idle": "2021-09-13T20:09:16.848924Z",
     "shell.execute_reply": "2021-09-13T20:09:16.848289Z"
    },
    "papermill": {
     "duration": 0.724046,
     "end_time": "2021-09-13T20:09:16.849094",
     "exception": false,
     "start_time": "2021-09-13T20:09:16.125048",
     "status": "completed"
    },
    "tags": []
   },
   "outputs": [
    {
     "name": "stdout",
     "output_type": "stream",
     "text": [
      "MAE from Approach 2 (Imputation):\n",
      "178166.46269899711\n"
     ]
    }
   ],
   "source": [
    "from sklearn.impute import SimpleImputer\n",
    "\n",
    "# Imputation\n",
    "my_imputer = SimpleImputer()\n",
    "imputed_X_train = pd.DataFrame(my_imputer.fit_transform(X_train))\n",
    "imputed_X_valid = pd.DataFrame(my_imputer.transform(X_valid))\n",
    "\n",
    "# Imputation removed column names; put them back\n",
    "imputed_X_train.columns = X_train.columns\n",
    "imputed_X_valid.columns = X_valid.columns\n",
    "\n",
    "print(\"MAE from Approach 2 (Imputation):\")\n",
    "print(score_dataset(imputed_X_train, imputed_X_valid, y_train, y_valid))"
   ]
  },
  {
   "cell_type": "markdown",
   "id": "44ae6a02",
   "metadata": {
    "papermill": {
     "duration": 0.010776,
     "end_time": "2021-09-13T20:09:16.870872",
     "exception": false,
     "start_time": "2021-09-13T20:09:16.860096",
     "status": "completed"
    },
    "tags": []
   },
   "source": [
    "We see that **Approach 2** has lower MAE than **Approach 1**, so **Approach 2** performed better on this dataset.\n",
    "\n",
    "### Score from Approach 3 (An Extension to Imputation)\n",
    "\n",
    "Next, we impute the missing values, while also keeping track of which values were imputed."
   ]
  },
  {
   "cell_type": "code",
   "execution_count": 5,
   "id": "198f18b0",
   "metadata": {
    "execution": {
     "iopub.execute_input": "2021-09-13T20:09:16.907534Z",
     "iopub.status.busy": "2021-09-13T20:09:16.895646Z",
     "iopub.status.idle": "2021-09-13T20:09:17.692264Z",
     "shell.execute_reply": "2021-09-13T20:09:17.691655Z"
    },
    "papermill": {
     "duration": 0.810618,
     "end_time": "2021-09-13T20:09:17.692398",
     "exception": false,
     "start_time": "2021-09-13T20:09:16.881780",
     "status": "completed"
    },
    "tags": []
   },
   "outputs": [
    {
     "name": "stdout",
     "output_type": "stream",
     "text": [
      "MAE from Approach 3 (An Extension to Imputation):\n",
      "178927.503183954\n"
     ]
    }
   ],
   "source": [
    "# Make copy to avoid changing original data (when imputing)\n",
    "X_train_plus = X_train.copy()\n",
    "X_valid_plus = X_valid.copy()\n",
    "\n",
    "# Make new columns indicating what will be imputed\n",
    "for col in cols_with_missing:\n",
    "    X_train_plus[col + '_was_missing'] = X_train_plus[col].isnull()\n",
    "    X_valid_plus[col + '_was_missing'] = X_valid_plus[col].isnull()\n",
    "\n",
    "# Imputation\n",
    "my_imputer = SimpleImputer()\n",
    "imputed_X_train_plus = pd.DataFrame(my_imputer.fit_transform(X_train_plus))\n",
    "imputed_X_valid_plus = pd.DataFrame(my_imputer.transform(X_valid_plus))\n",
    "\n",
    "# Imputation removed column names; put them back\n",
    "imputed_X_train_plus.columns = X_train_plus.columns\n",
    "imputed_X_valid_plus.columns = X_valid_plus.columns\n",
    "\n",
    "print(\"MAE from Approach 3 (An Extension to Imputation):\")\n",
    "print(score_dataset(imputed_X_train_plus, imputed_X_valid_plus, y_train, y_valid))"
   ]
  },
  {
   "cell_type": "markdown",
   "id": "ebb79684",
   "metadata": {
    "papermill": {
     "duration": 0.01141,
     "end_time": "2021-09-13T20:09:17.715704",
     "exception": false,
     "start_time": "2021-09-13T20:09:17.704294",
     "status": "completed"
    },
    "tags": []
   },
   "source": [
    "As we can see, **Approach 3** performed slightly worse than **Approach 2**.\n",
    "\n",
    "### So, why did imputation perform better than dropping the columns?\n",
    "\n",
    "The training data has 10864 rows and 12 columns, where three columns contain missing data.  For each column, less than half of the entries are missing.  Thus, dropping the columns removes a lot of useful information, and so it makes sense that imputation would perform better."
   ]
  },
  {
   "cell_type": "code",
   "execution_count": 6,
   "id": "fd7d73b6",
   "metadata": {
    "execution": {
     "iopub.execute_input": "2021-09-13T20:09:17.745316Z",
     "iopub.status.busy": "2021-09-13T20:09:17.744359Z",
     "iopub.status.idle": "2021-09-13T20:09:17.750511Z",
     "shell.execute_reply": "2021-09-13T20:09:17.750934Z"
    },
    "papermill": {
     "duration": 0.023578,
     "end_time": "2021-09-13T20:09:17.751108",
     "exception": false,
     "start_time": "2021-09-13T20:09:17.727530",
     "status": "completed"
    },
    "tags": []
   },
   "outputs": [
    {
     "name": "stdout",
     "output_type": "stream",
     "text": [
      "(10864, 12)\n",
      "Car               49\n",
      "BuildingArea    5156\n",
      "YearBuilt       4307\n",
      "dtype: int64\n"
     ]
    }
   ],
   "source": [
    "# Shape of training data (num_rows, num_columns)\n",
    "print(X_train.shape)\n",
    "\n",
    "# Number of missing values in each column of training data\n",
    "missing_val_count_by_column = (X_train.isnull().sum())\n",
    "print(missing_val_count_by_column[missing_val_count_by_column > 0])"
   ]
  },
  {
   "cell_type": "markdown",
   "id": "22688cbb",
   "metadata": {
    "papermill": {
     "duration": 0.0131,
     "end_time": "2021-09-13T20:09:17.776681",
     "exception": false,
     "start_time": "2021-09-13T20:09:17.763581",
     "status": "completed"
    },
    "tags": []
   },
   "source": [
    "# Conclusion\n",
    "As is common, imputing missing values (in **Approach 2** and **Approach 3**) yielded better results, relative to when we simply dropped columns with missing values (in **Approach 1**).\n",
    "\n",
    "# Your Turn\n",
    "\n",
    "Compare these approaches to dealing with missing values yourself in **[this exercise](https://www.kaggle.com/kernels/fork/3370280)**!"
   ]
  }
 ],
 "metadata": {
  "kernelspec": {
   "display_name": "Python 3",
   "language": "python",
   "name": "python3"
  },
  "language_info": {
   "codemirror_mode": {
    "name": "ipython",
    "version": 3
   },
   "file_extension": ".py",
   "mimetype": "text/x-python",
   "name": "python",
   "nbconvert_exporter": "python",
   "pygments_lexer": "ipython3",
   "version": "3.7.10"
  },
  "papermill": {
   "default_parameters": {},
   "duration": 11.572718,
   "end_time": "2021-09-13T20:09:18.398198",
   "environment_variables": {},
   "exception": null,
   "input_path": "__notebook__.ipynb",
   "output_path": "__notebook__.ipynb",
   "parameters": {},
   "start_time": "2021-09-13T20:09:06.825480",
   "version": "2.3.3"
  }
 },
 "nbformat": 4,
 "nbformat_minor": 5
}
