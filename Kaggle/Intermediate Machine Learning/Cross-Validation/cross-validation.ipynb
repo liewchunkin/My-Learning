{
 "cells": [
  {
   "cell_type": "markdown",
   "id": "4d970508",
   "metadata": {
    "papermill": {
     "duration": 0.00698,
     "end_time": "2021-09-13T20:09:24.684009",
     "exception": false,
     "start_time": "2021-09-13T20:09:24.677029",
     "status": "completed"
    },
    "tags": []
   },
   "source": [
    "In this tutorial, you will learn how to use **cross-validation** for better measures of model performance.\n",
    "\n",
    "# Introduction\n",
    "\n",
    "Machine learning is an iterative process. \n",
    "\n",
    "You will face choices about what predictive variables to use, what types of models to use, what arguments to supply to those models, etc. So far, you have made these choices in a data-driven way by measuring model quality with a validation (or holdout) set.  \n",
    "\n",
    "But there are some drawbacks to this approach.  To see this, imagine you have a dataset with 5000 rows.  You will typically keep about 20% of the data as a validation dataset, or 1000 rows.  But this leaves some random chance in determining model scores.  That is, a model might do well on one set of 1000 rows, even if it would be inaccurate on a different 1000 rows.  \n",
    "\n",
    "At an extreme, you could imagine having only 1 row of data in the validation set. If you compare alternative models, which one makes the best predictions on a single data point will be mostly a matter of luck!\n",
    "\n",
    "In general, the larger the validation set, the less randomness (aka \"noise\") there is in our measure of model quality, and the more reliable it will be.  Unfortunately, we can only get a large validation set by removing rows from our training data, and smaller training datasets mean worse models!"
   ]
  },
  {
   "cell_type": "markdown",
   "id": "2c9fb2e3",
   "metadata": {
    "papermill": {
     "duration": 0.005391,
     "end_time": "2021-09-13T20:09:24.695604",
     "exception": false,
     "start_time": "2021-09-13T20:09:24.690213",
     "status": "completed"
    },
    "tags": []
   },
   "source": [
    "# What is cross-validation?\n",
    "\n",
    "In **cross-validation**, we run our modeling process on different subsets of the data to get multiple measures of model quality. \n",
    "\n",
    "For example, we could begin by dividing the data into 5 pieces, each 20% of the full dataset.  In this case, we say that we have broken the data into 5 \"**folds**\".  \n",
    "\n",
    "![tut5_crossval](https://i.imgur.com/9k60cVA.png)\n",
    "\n",
    "Then, we run one experiment for each fold:\n",
    "- In **Experiment 1**, we use the first fold as a validation (or holdout) set and everything else as training data. This gives us a measure of model quality based on a 20% holdout set.  \n",
    "- In **Experiment 2**, we hold out data from the second fold (and use everything except the second fold for training the model). The holdout set is then used to get a second estimate of model quality.\n",
    "- We repeat this process, using every fold once as the holdout set.  Putting this together, 100% of the data is used as holdout at some point, and we end up with a measure of model quality that is based on all of the rows in the dataset (even if we don't use all rows simultaneously).\n",
    "\n",
    "# When should you use cross-validation?\n",
    "\n",
    "Cross-validation gives a more accurate measure of model quality, which is especially important if you are making a lot of modeling decisions.  However, it can take longer to run, because it estimates multiple models (one for each fold).  \n",
    "\n",
    "So, given these tradeoffs, when should you use each approach?\n",
    "- _For small datasets_, where extra computational burden isn't a big deal, you should run cross-validation.\n",
    "- _For larger datasets_, a single validation set is sufficient.  Your code will run faster, and you may have enough data that there's little need to re-use some of it for holdout.\n",
    "\n",
    "There's no simple threshold for what constitutes a large vs. small dataset.  But if your model takes a couple minutes or less to run, it's probably worth switching to cross-validation.  \n",
    "\n",
    "Alternatively, you can run cross-validation and see if the scores for each experiment seem close.  If each experiment yields the same results, a single validation set is probably sufficient."
   ]
  },
  {
   "cell_type": "markdown",
   "id": "09532533",
   "metadata": {
    "papermill": {
     "duration": 0.005301,
     "end_time": "2021-09-13T20:09:24.706614",
     "exception": false,
     "start_time": "2021-09-13T20:09:24.701313",
     "status": "completed"
    },
    "tags": []
   },
   "source": [
    "# Example\n",
    "\n",
    "We'll work with the same data as in the previous tutorial.  We load the input data in `X` and the output data in `y`."
   ]
  },
  {
   "cell_type": "code",
   "execution_count": 1,
   "id": "506ff627",
   "metadata": {
    "_kg_hide-input": true,
    "_kg_hide-output": true,
    "execution": {
     "iopub.execute_input": "2021-09-13T20:09:24.727723Z",
     "iopub.status.busy": "2021-09-13T20:09:24.727124Z",
     "iopub.status.idle": "2021-09-13T20:09:24.811830Z",
     "shell.execute_reply": "2021-09-13T20:09:24.810717Z"
    },
    "papermill": {
     "duration": 0.099697,
     "end_time": "2021-09-13T20:09:24.812022",
     "exception": false,
     "start_time": "2021-09-13T20:09:24.712325",
     "status": "completed"
    },
    "tags": []
   },
   "outputs": [],
   "source": [
    "\n",
    "import pandas as pd\n",
    "\n",
    "# Read the data\n",
    "data = pd.read_csv('../input/melbourne-housing-snapshot/melb_data.csv')\n",
    "\n",
    "# Select subset of predictors\n",
    "cols_to_use = ['Rooms', 'Distance', 'Landsize', 'BuildingArea', 'YearBuilt']\n",
    "X = data[cols_to_use]\n",
    "\n",
    "# Select target\n",
    "y = data.Price"
   ]
  },
  {
   "cell_type": "markdown",
   "id": "2f5fe039",
   "metadata": {
    "papermill": {
     "duration": 0.005664,
     "end_time": "2021-09-13T20:09:24.823893",
     "exception": false,
     "start_time": "2021-09-13T20:09:24.818229",
     "status": "completed"
    },
    "tags": []
   },
   "source": [
    "Then, we define a pipeline that uses an imputer to fill in missing values and a random forest model to make predictions.  \n",
    "\n",
    "While it's _possible_ to do cross-validation without pipelines, it is quite difficult!  Using a pipeline will make the code remarkably straightforward."
   ]
  },
  {
   "cell_type": "code",
   "execution_count": 2,
   "id": "d5d71c0f",
   "metadata": {
    "execution": {
     "iopub.execute_input": "2021-09-13T20:09:24.841130Z",
     "iopub.status.busy": "2021-09-13T20:09:24.840371Z",
     "iopub.status.idle": "2021-09-13T20:09:25.867270Z",
     "shell.execute_reply": "2021-09-13T20:09:25.867741Z"
    },
    "papermill": {
     "duration": 1.038268,
     "end_time": "2021-09-13T20:09:25.867941",
     "exception": false,
     "start_time": "2021-09-13T20:09:24.829673",
     "status": "completed"
    },
    "tags": []
   },
   "outputs": [],
   "source": [
    "from sklearn.ensemble import RandomForestRegressor\n",
    "from sklearn.pipeline import Pipeline\n",
    "from sklearn.impute import SimpleImputer\n",
    "\n",
    "my_pipeline = Pipeline(steps=[('preprocessor', SimpleImputer()),\n",
    "                              ('model', RandomForestRegressor(n_estimators=50,\n",
    "                                                              random_state=0))\n",
    "                             ])"
   ]
  },
  {
   "cell_type": "markdown",
   "id": "4d7e08a4",
   "metadata": {
    "papermill": {
     "duration": 0.005638,
     "end_time": "2021-09-13T20:09:25.879628",
     "exception": false,
     "start_time": "2021-09-13T20:09:25.873990",
     "status": "completed"
    },
    "tags": []
   },
   "source": [
    "We obtain the cross-validation scores with the [`cross_val_score()`](https://scikit-learn.org/stable/modules/generated/sklearn.model_selection.cross_val_score.html) function from scikit-learn.  We set the number of folds with the `cv` parameter."
   ]
  },
  {
   "cell_type": "code",
   "execution_count": 3,
   "id": "09d89f70",
   "metadata": {
    "execution": {
     "iopub.execute_input": "2021-09-13T20:09:25.897492Z",
     "iopub.status.busy": "2021-09-13T20:09:25.896839Z",
     "iopub.status.idle": "2021-09-13T20:09:33.576828Z",
     "shell.execute_reply": "2021-09-13T20:09:33.577396Z"
    },
    "papermill": {
     "duration": 7.692047,
     "end_time": "2021-09-13T20:09:33.577574",
     "exception": false,
     "start_time": "2021-09-13T20:09:25.885527",
     "status": "completed"
    },
    "tags": []
   },
   "outputs": [
    {
     "name": "stdout",
     "output_type": "stream",
     "text": [
      "MAE scores:\n",
      " [301628.7893587  303164.4782723  287298.331666   236061.84754543\n",
      " 260383.45111427]\n"
     ]
    }
   ],
   "source": [
    "from sklearn.model_selection import cross_val_score\n",
    "\n",
    "# Multiply by -1 since sklearn calculates *negative* MAE\n",
    "scores = -1 * cross_val_score(my_pipeline, X, y,\n",
    "                              cv=5,\n",
    "                              scoring='neg_mean_absolute_error')\n",
    "\n",
    "print(\"MAE scores:\\n\", scores)"
   ]
  },
  {
   "cell_type": "markdown",
   "id": "58146852",
   "metadata": {
    "papermill": {
     "duration": 0.006079,
     "end_time": "2021-09-13T20:09:33.590323",
     "exception": false,
     "start_time": "2021-09-13T20:09:33.584244",
     "status": "completed"
    },
    "tags": []
   },
   "source": [
    "The `scoring` parameter chooses a measure of model quality to report: in this case, we chose negative mean absolute error (MAE).  The docs for scikit-learn show a [list of options](http://scikit-learn.org/stable/modules/model_evaluation.html).  \n",
    "\n",
    "It is a little surprising that we specify *negative* MAE. Scikit-learn has a convention where all metrics are defined so a high number is better.  Using negatives here allows them to be consistent with that convention, though negative MAE is almost unheard of elsewhere. \n",
    "\n",
    "We typically want a single measure of model quality to compare alternative models.  So we take the average across experiments."
   ]
  },
  {
   "cell_type": "code",
   "execution_count": 4,
   "id": "70ff260f",
   "metadata": {
    "execution": {
     "iopub.execute_input": "2021-09-13T20:09:33.607904Z",
     "iopub.status.busy": "2021-09-13T20:09:33.607294Z",
     "iopub.status.idle": "2021-09-13T20:09:33.610732Z",
     "shell.execute_reply": "2021-09-13T20:09:33.610170Z"
    },
    "papermill": {
     "duration": 0.013807,
     "end_time": "2021-09-13T20:09:33.610864",
     "exception": false,
     "start_time": "2021-09-13T20:09:33.597057",
     "status": "completed"
    },
    "tags": []
   },
   "outputs": [
    {
     "name": "stdout",
     "output_type": "stream",
     "text": [
      "Average MAE score (across experiments):\n",
      "277707.3795913405\n"
     ]
    }
   ],
   "source": [
    "print(\"Average MAE score (across experiments):\")\n",
    "print(scores.mean())"
   ]
  },
  {
   "cell_type": "markdown",
   "id": "35e9e802",
   "metadata": {
    "papermill": {
     "duration": 0.006474,
     "end_time": "2021-09-13T20:09:33.624031",
     "exception": false,
     "start_time": "2021-09-13T20:09:33.617557",
     "status": "completed"
    },
    "tags": []
   },
   "source": [
    "# Conclusion\n",
    "\n",
    "Using cross-validation yields a much better measure of model quality, with the added benefit of cleaning up our code: note that we no longer need to keep track of separate training and validation sets.  So, especially for small datasets, it's a good improvement!\n",
    "\n",
    "# Your Turn\n",
    "\n",
    "Put your new skills to work in the **[next exercise](https://www.kaggle.com/kernels/fork/3370281)**!"
   ]
  }
 ],
 "metadata": {
  "kernelspec": {
   "display_name": "Python 3",
   "language": "python",
   "name": "python3"
  },
  "language_info": {
   "codemirror_mode": {
    "name": "ipython",
    "version": 3
   },
   "file_extension": ".py",
   "mimetype": "text/x-python",
   "name": "python",
   "nbconvert_exporter": "python",
   "pygments_lexer": "ipython3",
   "version": "3.7.10"
  },
  "papermill": {
   "default_parameters": {},
   "duration": 16.345457,
   "end_time": "2021-09-13T20:09:34.239384",
   "environment_variables": {},
   "exception": null,
   "input_path": "__notebook__.ipynb",
   "output_path": "__notebook__.ipynb",
   "parameters": {},
   "start_time": "2021-09-13T20:09:17.893927",
   "version": "2.3.3"
  }
 },
 "nbformat": 4,
 "nbformat_minor": 5
}
